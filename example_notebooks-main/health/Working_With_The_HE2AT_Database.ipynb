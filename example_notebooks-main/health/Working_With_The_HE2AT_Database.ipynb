{
 "cells": [
  {
   "cell_type": "markdown",
   "id": "9bca5a38-8e2d-4ab3-a178-a8cd10bcaf87",
   "metadata": {},
   "source": [
    "# We have a database\n",
    "\n",
    "Hello, HE2AT team! We now have a database! For For now it is a very minimal example with only one RP1 study available ZAF055. We will soon add MWI198. The database has been created with SQLAlchemy and it is a SQLite database. there are a number of ways to access the database. In python you could us SQLAlchemy itself or you could use DuckDB. This notebook will outline some examples using DuckDB. The same SQL commands could also be use in R."
   ]
  },
  {
   "cell_type": "code",
   "execution_count": 1,
   "id": "cb487e4d-b3d7-4fd1-b3a9-a86161cc9e15",
   "metadata": {},
   "outputs": [
    {
     "name": "stderr",
     "output_type": "stream",
     "text": [
      "ERROR 1: PROJ: proj_create_from_database: Open of /share/apps/anaconda3-2022.05/envs/pangeo/share/proj failed\n"
     ]
    }
   ],
   "source": [
    "import fsspec\n",
    "from pathlib import Path\n",
    "import shutil\n",
    "\n",
    "import duckdb\n",
    "import numpy as np\n",
    "import pandas as pd\n",
    "\n",
    "import geopandas as gpd\n",
    "import intake\n",
    "import xarray as xr\n",
    "import dask\n",
    "\n",
    "import matplotlib.pyplot as plt\n",
    "import cartopy.crs as ccrs\n",
    "import cartopy.feature as cfeature\n",
    "\n",
    "fs = fsspec.filesystem(\"\")"
   ]
  },
  {
   "cell_type": "markdown",
   "id": "7756be3b-2fbb-4bfa-b601-8004728aaf42",
   "metadata": {},
   "source": [
    "## Structure\n",
    "\n",
    "First let's consider the structure of the database. "
   ]
  },
  {
   "cell_type": "code",
   "execution_count": 2,
   "id": "64649003-55d0-406e-8c92-773943cbb530",
   "metadata": {},
   "outputs": [],
   "source": [
    "# copy the latest layout from our database definition's directory"
   ]
  },
  {
   "cell_type": "code",
   "execution_count": 3,
   "id": "14e570ab-7c5c-4862-b6ea-52d2582b0b05",
   "metadata": {},
   "outputs": [],
   "source": [
    "_ = shutil.copy(Path(Path.home(),'heat_center/data/health_open/database/definition/my_data_model_diagram.svg'), 'my_data_model_diagram.svg')"
   ]
  },
  {
   "cell_type": "markdown",
   "id": "007e12b4-afea-4b1a-958a-cc0107ebd315",
   "metadata": {},
   "source": [
    "![SVG Image](my_data_model_diagram.svg)"
   ]
  },
  {
   "cell_type": "markdown",
   "id": "ec3319d2-5b9e-4abe-802e-d46bb2b44674",
   "metadata": {},
   "source": [
    "# Access Data"
   ]
  },
  {
   "cell_type": "markdown",
   "id": "251948b5-d3bf-4a57-b028-2b202d6e6916",
   "metadata": {},
   "source": [
    "## Using DuckDB"
   ]
  },
  {
   "cell_type": "code",
   "execution_count": 4,
   "id": "434273e8-6840-47c5-9b58-e65c67b5d19f",
   "metadata": {},
   "outputs": [],
   "source": [
    "conn = duckdb.connect(f\"{Path(Path.home(),'heat_center/data/health_open/database/data/RP1.db')}\")"
   ]
  },
  {
   "cell_type": "markdown",
   "id": "37cd910c-97de-4397-b0fe-c64682b76c3a",
   "metadata": {},
   "source": [
    "Let's see which studies are present"
   ]
  },
  {
   "cell_type": "code",
   "execution_count": 5,
   "id": "dfc241ee-1b8b-4bc4-ab27-a4d793e90e49",
   "metadata": {},
   "outputs": [
    {
     "data": {
      "text/plain": [
       "{('MWI198',), ('MWI524',), ('ZAF055',)}"
      ]
     },
     "execution_count": 5,
     "metadata": {},
     "output_type": "execute_result"
    }
   ],
   "source": [
    "query = \"\"\"\n",
    "        SELECT s.name\n",
    "        FROM study s\n",
    "        INNER JOIN patient p ON s.name = p.study_id;\n",
    "        \"\"\"\n",
    "\n",
    "set(conn.execute(query).fetchall())"
   ]
  },
  {
   "cell_type": "markdown",
   "id": "86b9489c-aaef-4a01-9daf-ed43e44facd8",
   "metadata": {},
   "source": [
    "and how many patients does this include:"
   ]
  },
  {
   "cell_type": "code",
   "execution_count": 6,
   "id": "bb06fe64-9d82-4275-9bf4-0ef62369136f",
   "metadata": {},
   "outputs": [
    {
     "data": {
      "text/plain": [
       "6923"
      ]
     },
     "execution_count": 6,
     "metadata": {},
     "output_type": "execute_result"
    }
   ],
   "source": [
    "query = \"\"\"\n",
    "        SELECT p.patient_id\n",
    "        FROM patient p\n",
    "        \"\"\"\n",
    "\n",
    "len(conn.execute(query).fetchall())"
   ]
  },
  {
   "cell_type": "markdown",
   "id": "ce77e85c-73f6-4a1d-9652-3f0b623d065d",
   "metadata": {},
   "source": [
    "and what data is available"
   ]
  },
  {
   "cell_type": "code",
   "execution_count": 7,
   "id": "c767bda4-9171-4ffc-8f61-449b96ab0161",
   "metadata": {},
   "outputs": [
    {
     "data": {
      "text/plain": [
       "['Location',\n",
       " 'Race',\n",
       " 'Age-Years',\n",
       " 'HIV Status',\n",
       " 'Highly Active Antiretroviral Therapy',\n",
       " 'Birth Date',\n",
       " 'Preterm Birth',\n",
       " 'Birth Weight',\n",
       " 'Gestational Age at Birth (weeks)',\n",
       " 'Apgar Score',\n",
       " 'Sex',\n",
       " 'Noncompliance with antiretroviral medication regimen (finding)',\n",
       " 'Alcohol Abuse',\n",
       " 'Death Indicator',\n",
       " 'Perinatal Mortality ',\n",
       " 'CD4 Expressing Cell Count',\n",
       " 'HIV Viral Load Measurement',\n",
       " 'Body Weight',\n",
       " 'Height',\n",
       " 'Body Mass Index',\n",
       " 'Systolic Blood Pressure',\n",
       " 'Diastolic Blood Pressure',\n",
       " 'Delivery Procedure',\n",
       " 'Adverse Event',\n",
       " 'Smoking Status',\n",
       " 'Number of Fetuses',\n",
       " 'Hospitalization',\n",
       " 'Gastroenteritis',\n",
       " 'Pneumonia ',\n",
       " 'Upper Respiratory Tract Infection',\n",
       " 'Employment Status',\n",
       " 'Syphilis',\n",
       " 'Hypertension',\n",
       " 'Malaria',\n",
       " 'Tuberculosis',\n",
       " 'Hypertension-Associated Pregnancy Disorder',\n",
       " 'Antepartum Hemorrhage',\n",
       " 'Eclampsia',\n",
       " 'Placental Abruption',\n",
       " 'postpartum hemorrhage',\n",
       " 'placenta praevia',\n",
       " 'GAIA Level 3b Assessment of Gestational Age',\n",
       " 'Low Birth Weight',\n",
       " 'Neonatal Sepsis',\n",
       " 'Congenital Abnormalities',\n",
       " 'Hemoglobin']"
      ]
     },
     "execution_count": 7,
     "metadata": {},
     "output_type": "execute_result"
    }
   ],
   "source": [
    "query_var_names = \"\"\"\n",
    "SELECT DISTINCT c.variable_name\n",
    "FROM codebook c\n",
    "JOIN variable_data v ON c.variable_name = v.variable_id\n",
    "\"\"\"\n",
    "var_names_data = conn.execute(query_var_names).fetchall()\n",
    "[x[0] for x in var_names_data]"
   ]
  },
  {
   "cell_type": "markdown",
   "id": "d3a1214d-e0b9-42b8-839b-295ed019f355",
   "metadata": {},
   "source": [
    "Birth Weight is the easiest to check the quality of our data, let's get the mean "
   ]
  },
  {
   "cell_type": "code",
   "execution_count": 8,
   "id": "7a905273-aa3b-4463-9ee4-ea6465fc962c",
   "metadata": {},
   "outputs": [],
   "source": [
    "# Define the variable_id\n",
    "variable_id = 'Birth Weight'\n",
    "\n",
    "# Construct the SQL query to get data_type and fetch integer_value or float_value accordingly\n",
    "query = f\"\"\"\n",
    "SELECT * FROM variable_data WHERE variable_id = '{variable_id}'\n",
    "\"\"\"\n",
    "\n",
    "# Execute the SQL query and fetch a pandas df\n",
    "df = conn.execute(query).fetchdf()"
   ]
  },
  {
   "cell_type": "code",
   "execution_count": 9,
   "id": "f3062611-81f3-4c7c-9f8f-e0626bc59a1b",
   "metadata": {},
   "outputs": [
    {
     "data": {
      "text/html": [
       "<div>\n",
       "<style scoped>\n",
       "    .dataframe tbody tr th:only-of-type {\n",
       "        vertical-align: middle;\n",
       "    }\n",
       "\n",
       "    .dataframe tbody tr th {\n",
       "        vertical-align: top;\n",
       "    }\n",
       "\n",
       "    .dataframe thead th {\n",
       "        text-align: right;\n",
       "    }\n",
       "</style>\n",
       "<table border=\"1\" class=\"dataframe\">\n",
       "  <thead>\n",
       "    <tr style=\"text-align: right;\">\n",
       "      <th></th>\n",
       "      <th>id</th>\n",
       "      <th>patient_id</th>\n",
       "      <th>variable_id</th>\n",
       "      <th>date</th>\n",
       "      <th>time</th>\n",
       "      <th>transformed</th>\n",
       "      <th>relation</th>\n",
       "      <th>study</th>\n",
       "      <th>table</th>\n",
       "      <th>source_variable_id</th>\n",
       "      <th>source_value_type</th>\n",
       "      <th>string_source_value</th>\n",
       "      <th>integer_source_value</th>\n",
       "      <th>float_source_value</th>\n",
       "      <th>source_encoding</th>\n",
       "      <th>transformation_instruction</th>\n",
       "      <th>data_type</th>\n",
       "      <th>string_value</th>\n",
       "      <th>integer_value</th>\n",
       "      <th>float_value</th>\n",
       "    </tr>\n",
       "  </thead>\n",
       "  <tbody>\n",
       "    <tr>\n",
       "      <th>0</th>\n",
       "      <td>24015</td>\n",
       "      <td>1eb15e7a348a47e03e08063728ff846a56f91aa0c40dc7...</td>\n",
       "      <td>Birth Weight</td>\n",
       "      <td>2015-07-23</td>\n",
       "      <td>NaN</td>\n",
       "      <td>1</td>\n",
       "      <td>Mother</td>\n",
       "      <td>ZAF055</td>\n",
       "      <td>ZAF055</td>\n",
       "      <td>WeightatBirth</td>\n",
       "      <td>float</td>\n",
       "      <td>NaN</td>\n",
       "      <td>NaN</td>\n",
       "      <td>3.2</td>\n",
       "      <td>NaN</td>\n",
       "      <td>x * 1000</td>\n",
       "      <td>int</td>\n",
       "      <td>NaN</td>\n",
       "      <td>3200</td>\n",
       "      <td>NaN</td>\n",
       "    </tr>\n",
       "    <tr>\n",
       "      <th>1</th>\n",
       "      <td>24016</td>\n",
       "      <td>5b5aa4da0d67c22b4b22dffd498a8b7d88d0c718382d74...</td>\n",
       "      <td>Birth Weight</td>\n",
       "      <td>2015-10-15</td>\n",
       "      <td>NaN</td>\n",
       "      <td>1</td>\n",
       "      <td>Mother</td>\n",
       "      <td>ZAF055</td>\n",
       "      <td>ZAF055</td>\n",
       "      <td>WeightatBirth</td>\n",
       "      <td>float</td>\n",
       "      <td>NaN</td>\n",
       "      <td>NaN</td>\n",
       "      <td>3.2</td>\n",
       "      <td>NaN</td>\n",
       "      <td>x * 1000</td>\n",
       "      <td>int</td>\n",
       "      <td>NaN</td>\n",
       "      <td>3200</td>\n",
       "      <td>NaN</td>\n",
       "    </tr>\n",
       "    <tr>\n",
       "      <th>2</th>\n",
       "      <td>24017</td>\n",
       "      <td>b4ec5af3168edc57458fb52634c0736572cdcb5fb9ef54...</td>\n",
       "      <td>Birth Weight</td>\n",
       "      <td>2015-08-25</td>\n",
       "      <td>NaN</td>\n",
       "      <td>1</td>\n",
       "      <td>Mother</td>\n",
       "      <td>ZAF055</td>\n",
       "      <td>ZAF055</td>\n",
       "      <td>WeightatBirth</td>\n",
       "      <td>float</td>\n",
       "      <td>NaN</td>\n",
       "      <td>NaN</td>\n",
       "      <td>3.1</td>\n",
       "      <td>NaN</td>\n",
       "      <td>x * 1000</td>\n",
       "      <td>int</td>\n",
       "      <td>NaN</td>\n",
       "      <td>3100</td>\n",
       "      <td>NaN</td>\n",
       "    </tr>\n",
       "    <tr>\n",
       "      <th>3</th>\n",
       "      <td>24018</td>\n",
       "      <td>d92022ad8c0bb829d452b8db1760ec1aee10a6a1803ea4...</td>\n",
       "      <td>Birth Weight</td>\n",
       "      <td>2016-02-27</td>\n",
       "      <td>NaN</td>\n",
       "      <td>1</td>\n",
       "      <td>Mother</td>\n",
       "      <td>ZAF055</td>\n",
       "      <td>ZAF055</td>\n",
       "      <td>WeightatBirth</td>\n",
       "      <td>float</td>\n",
       "      <td>NaN</td>\n",
       "      <td>NaN</td>\n",
       "      <td>3.7</td>\n",
       "      <td>NaN</td>\n",
       "      <td>x * 1000</td>\n",
       "      <td>int</td>\n",
       "      <td>NaN</td>\n",
       "      <td>3700</td>\n",
       "      <td>NaN</td>\n",
       "    </tr>\n",
       "    <tr>\n",
       "      <th>4</th>\n",
       "      <td>24019</td>\n",
       "      <td>1bf498e659d280b7b82f2cd3a32f194c5cadd23ba79d5f...</td>\n",
       "      <td>Birth Weight</td>\n",
       "      <td>2016-02-25</td>\n",
       "      <td>NaN</td>\n",
       "      <td>1</td>\n",
       "      <td>Mother</td>\n",
       "      <td>ZAF055</td>\n",
       "      <td>ZAF055</td>\n",
       "      <td>WeightatBirth</td>\n",
       "      <td>float</td>\n",
       "      <td>NaN</td>\n",
       "      <td>NaN</td>\n",
       "      <td>2.9</td>\n",
       "      <td>NaN</td>\n",
       "      <td>x * 1000</td>\n",
       "      <td>int</td>\n",
       "      <td>NaN</td>\n",
       "      <td>2900</td>\n",
       "      <td>NaN</td>\n",
       "    </tr>\n",
       "  </tbody>\n",
       "</table>\n",
       "</div>"
      ],
      "text/plain": [
       "      id                                         patient_id   variable_id  \\\n",
       "0  24015  1eb15e7a348a47e03e08063728ff846a56f91aa0c40dc7...  Birth Weight   \n",
       "1  24016  5b5aa4da0d67c22b4b22dffd498a8b7d88d0c718382d74...  Birth Weight   \n",
       "2  24017  b4ec5af3168edc57458fb52634c0736572cdcb5fb9ef54...  Birth Weight   \n",
       "3  24018  d92022ad8c0bb829d452b8db1760ec1aee10a6a1803ea4...  Birth Weight   \n",
       "4  24019  1bf498e659d280b7b82f2cd3a32f194c5cadd23ba79d5f...  Birth Weight   \n",
       "\n",
       "         date time  transformed relation   study   table source_variable_id  \\\n",
       "0  2015-07-23  NaN            1   Mother  ZAF055  ZAF055      WeightatBirth   \n",
       "1  2015-10-15  NaN            1   Mother  ZAF055  ZAF055      WeightatBirth   \n",
       "2  2015-08-25  NaN            1   Mother  ZAF055  ZAF055      WeightatBirth   \n",
       "3  2016-02-27  NaN            1   Mother  ZAF055  ZAF055      WeightatBirth   \n",
       "4  2016-02-25  NaN            1   Mother  ZAF055  ZAF055      WeightatBirth   \n",
       "\n",
       "  source_value_type string_source_value  integer_source_value  \\\n",
       "0             float                 NaN                   NaN   \n",
       "1             float                 NaN                   NaN   \n",
       "2             float                 NaN                   NaN   \n",
       "3             float                 NaN                   NaN   \n",
       "4             float                 NaN                   NaN   \n",
       "\n",
       "   float_source_value source_encoding transformation_instruction data_type  \\\n",
       "0                 3.2             NaN                   x * 1000       int   \n",
       "1                 3.2             NaN                   x * 1000       int   \n",
       "2                 3.1             NaN                   x * 1000       int   \n",
       "3                 3.7             NaN                   x * 1000       int   \n",
       "4                 2.9             NaN                   x * 1000       int   \n",
       "\n",
       "  string_value  integer_value  float_value  \n",
       "0          NaN           3200          NaN  \n",
       "1          NaN           3200          NaN  \n",
       "2          NaN           3100          NaN  \n",
       "3          NaN           3700          NaN  \n",
       "4          NaN           2900          NaN  "
      ]
     },
     "execution_count": 9,
     "metadata": {},
     "output_type": "execute_result"
    }
   ],
   "source": [
    "df.head()"
   ]
  },
  {
   "cell_type": "code",
   "execution_count": 10,
   "id": "ad543a18-aae9-409b-add9-e1c2f2f62372",
   "metadata": {},
   "outputs": [
    {
     "data": {
      "text/plain": [
       "2918.515205724508"
      ]
     },
     "execution_count": 10,
     "metadata": {},
     "output_type": "execute_result"
    }
   ],
   "source": [
    "df['integer_value'].mean()"
   ]
  },
  {
   "cell_type": "markdown",
   "id": "1cbcfc18-f3e5-472c-b554-77789e51ed27",
   "metadata": {},
   "source": [
    "and max? obvs a mistake"
   ]
  },
  {
   "cell_type": "code",
   "execution_count": 11,
   "id": "2f583450-2cd4-4cd9-b0c6-fbd12d0ae6d1",
   "metadata": {},
   "outputs": [
    {
     "data": {
      "text/plain": [
       "5200"
      ]
     },
     "execution_count": 11,
     "metadata": {},
     "output_type": "execute_result"
    }
   ],
   "source": [
    "df['integer_value'].max()"
   ]
  },
  {
   "cell_type": "code",
   "execution_count": 12,
   "id": "d7edf797-e039-4ef5-adc8-38dff6867521",
   "metadata": {},
   "outputs": [
    {
     "data": {
      "text/plain": [
       "1000"
      ]
     },
     "execution_count": 12,
     "metadata": {},
     "output_type": "execute_result"
    }
   ],
   "source": [
    "df['integer_value'].min()"
   ]
  },
  {
   "cell_type": "markdown",
   "id": "29a07a0c-03d9-4bdb-a7c6-78f3f0f6820e",
   "metadata": {},
   "source": [
    "Maybe even a plot"
   ]
  },
  {
   "cell_type": "code",
   "execution_count": 13,
   "id": "e1f61e63-c0d6-4e4e-8579-e09d592ecfe1",
   "metadata": {},
   "outputs": [
    {
     "data": {
      "text/plain": [
       "<Axes: ylabel='Frequency'>"
      ]
     },
     "execution_count": 13,
     "metadata": {},
     "output_type": "execute_result"
    },
    {
     "data": {
      "image/png": "[encoded data removed]",
      "text/plain": [
       "<Figure size 640x480 with 1 Axes>"
      ]
     },
     "metadata": {},
     "output_type": "display_data"
    }
   ],
   "source": [
    "df['integer_value'].plot.hist() "
   ]
  },
  {
   "cell_type": "markdown",
   "id": "72746030-d728-4125-b0d0-bd12780cd5eb",
   "metadata": {},
   "source": [
    "which studies do these come from?"
   ]
  },
  {
   "cell_type": "code",
   "execution_count": 14,
   "id": "7d4c3f0e-a122-4e0d-bd97-0d499e34837e",
   "metadata": {},
   "outputs": [
    {
     "data": {
      "text/plain": [
       "{'ZAF055'}"
      ]
     },
     "execution_count": 14,
     "metadata": {},
     "output_type": "execute_result"
    }
   ],
   "source": [
    "set(df.study) "
   ]
  },
  {
   "cell_type": "markdown",
   "id": "bfc543cf-bc68-4ba2-a2a9-f6a331b79fd7",
   "metadata": {},
   "source": [
    "Just the one"
   ]
  },
  {
   "cell_type": "markdown",
   "id": "9941b9fc-0ecb-4192-a35e-c16f51fe2dea",
   "metadata": {},
   "source": [
    "Or a catagorical dataset"
   ]
  },
  {
   "cell_type": "code",
   "execution_count": 15,
   "id": "cec96d2d-8f5d-4c81-9a0b-4428ba807f6a",
   "metadata": {},
   "outputs": [
    {
     "data": {
      "text/plain": [
       "Counter({'Natural': 1491,\n",
       "         'C-section': 162,\n",
       "         'vaginal': 1422,\n",
       "         'assisted': 3,\n",
       "         'operative': 7})"
      ]
     },
     "execution_count": 15,
     "metadata": {},
     "output_type": "execute_result"
    }
   ],
   "source": [
    "from collections import Counter\n",
    "\n",
    "data = conn.execute(\"SELECT * FROM variable_data WHERE variable_id = 'Delivery Procedure'\").fetchall()\n",
    "Counter([x[-3] for x in data]) "
   ]
  },
  {
   "cell_type": "markdown",
   "id": "438029ad-2ade-47c0-afbe-c5f109ed5618",
   "metadata": {},
   "source": [
    "Apgar score is perhaps the easiest to relate to climate data so let's do a dry run of this"
   ]
  },
  {
   "cell_type": "code",
   "execution_count": 16,
   "id": "94379b86-8ddc-467d-a8ef-ce11acf2882d",
   "metadata": {},
   "outputs": [],
   "source": [
    "# Define the variable_id\n",
    "variable_id = 'Apgar Score'\n",
    "\n",
    "# Construct the SQL query to get data_type and fetch integer_value or float_value accordingly\n",
    "query = f\"\"\"\n",
    "SELECT * FROM variable_data WHERE variable_id = '{variable_id}'\n",
    "\"\"\"\n",
    "\n",
    "# Execute the SQL query and fetch a pandas df\n",
    "df = conn.execute(query).fetchdf()\n",
    "\n",
    "df = df.drop(columns = 'id').drop_duplicates()  # this is dropping rows with all cols identical, not sure why duplicates are present "
   ]
  },
  {
   "cell_type": "code",
   "execution_count": 17,
   "id": "07b7fa9e-74e4-487b-b9a2-a5269cc00a67",
   "metadata": {},
   "outputs": [],
   "source": [
    "df = df[['patient_id','integer_value']]\n",
    "df = df.rename(columns = {'integer_value':'apgar_score'})"
   ]
  },
  {
   "cell_type": "code",
   "execution_count": 18,
   "id": "7e5640b4-b73e-4742-adc7-28d5274d4d6c",
   "metadata": {},
   "outputs": [
    {
     "data": {
      "text/html": [
       "<div>\n",
       "<style scoped>\n",
       "    .dataframe tbody tr th:only-of-type {\n",
       "        vertical-align: middle;\n",
       "    }\n",
       "\n",
       "    .dataframe tbody tr th {\n",
       "        vertical-align: top;\n",
       "    }\n",
       "\n",
       "    .dataframe thead th {\n",
       "        text-align: right;\n",
       "    }\n",
       "</style>\n",
       "<table border=\"1\" class=\"dataframe\">\n",
       "  <thead>\n",
       "    <tr style=\"text-align: right;\">\n",
       "      <th></th>\n",
       "      <th>patient_id</th>\n",
       "      <th>apgar_score</th>\n",
       "    </tr>\n",
       "  </thead>\n",
       "  <tbody>\n",
       "    <tr>\n",
       "      <th>0</th>\n",
       "      <td>1eb15e7a348a47e03e08063728ff846a56f91aa0c40dc7...</td>\n",
       "      <td>10</td>\n",
       "    </tr>\n",
       "    <tr>\n",
       "      <th>1</th>\n",
       "      <td>5b5aa4da0d67c22b4b22dffd498a8b7d88d0c718382d74...</td>\n",
       "      <td>10</td>\n",
       "    </tr>\n",
       "    <tr>\n",
       "      <th>2</th>\n",
       "      <td>b4ec5af3168edc57458fb52634c0736572cdcb5fb9ef54...</td>\n",
       "      <td>10</td>\n",
       "    </tr>\n",
       "    <tr>\n",
       "      <th>3</th>\n",
       "      <td>d92022ad8c0bb829d452b8db1760ec1aee10a6a1803ea4...</td>\n",
       "      <td>10</td>\n",
       "    </tr>\n",
       "    <tr>\n",
       "      <th>4</th>\n",
       "      <td>1bf498e659d280b7b82f2cd3a32f194c5cadd23ba79d5f...</td>\n",
       "      <td>10</td>\n",
       "    </tr>\n",
       "    <tr>\n",
       "      <th>...</th>\n",
       "      <td>...</td>\n",
       "      <td>...</td>\n",
       "    </tr>\n",
       "    <tr>\n",
       "      <th>538</th>\n",
       "      <td>e41997bf0ba6d824efe8956b490646e98a8a39994ed6e3...</td>\n",
       "      <td>10</td>\n",
       "    </tr>\n",
       "    <tr>\n",
       "      <th>539</th>\n",
       "      <td>a3e37e8de95a8a769d5fe98151578ec8e226d7b4d25803...</td>\n",
       "      <td>10</td>\n",
       "    </tr>\n",
       "    <tr>\n",
       "      <th>540</th>\n",
       "      <td>a1d9e7d2544539d7294718017e0d49a758e8394de987b7...</td>\n",
       "      <td>10</td>\n",
       "    </tr>\n",
       "    <tr>\n",
       "      <th>541</th>\n",
       "      <td>7aee27e4090e6cb3e75e76ee5945653e35b10994bf88ab...</td>\n",
       "      <td>10</td>\n",
       "    </tr>\n",
       "    <tr>\n",
       "      <th>542</th>\n",
       "      <td>c74ea022d273fcb2d3132a0154a70e1fce4ffeec083a01...</td>\n",
       "      <td>10</td>\n",
       "    </tr>\n",
       "  </tbody>\n",
       "</table>\n",
       "<p>542 rows × 2 columns</p>\n",
       "</div>"
      ],
      "text/plain": [
       "                                            patient_id  apgar_score\n",
       "0    1eb15e7a348a47e03e08063728ff846a56f91aa0c40dc7...           10\n",
       "1    5b5aa4da0d67c22b4b22dffd498a8b7d88d0c718382d74...           10\n",
       "2    b4ec5af3168edc57458fb52634c0736572cdcb5fb9ef54...           10\n",
       "3    d92022ad8c0bb829d452b8db1760ec1aee10a6a1803ea4...           10\n",
       "4    1bf498e659d280b7b82f2cd3a32f194c5cadd23ba79d5f...           10\n",
       "..                                                 ...          ...\n",
       "538  e41997bf0ba6d824efe8956b490646e98a8a39994ed6e3...           10\n",
       "539  a3e37e8de95a8a769d5fe98151578ec8e226d7b4d25803...           10\n",
       "540  a1d9e7d2544539d7294718017e0d49a758e8394de987b7...           10\n",
       "541  7aee27e4090e6cb3e75e76ee5945653e35b10994bf88ab...           10\n",
       "542  c74ea022d273fcb2d3132a0154a70e1fce4ffeec083a01...           10\n",
       "\n",
       "[542 rows x 2 columns]"
      ]
     },
     "execution_count": 18,
     "metadata": {},
     "output_type": "execute_result"
    }
   ],
   "source": [
    "df"
   ]
  },
  {
   "cell_type": "markdown",
   "id": "5e6c37fd-1489-451f-88c9-285ef587021f",
   "metadata": {},
   "source": [
    "There is no date explicitely mapped but we know this is measured at birth "
   ]
  },
  {
   "cell_type": "code",
   "execution_count": 19,
   "id": "eea3f5d7-c2ac-49aa-8c11-f5055e7b6a4b",
   "metadata": {},
   "outputs": [],
   "source": [
    "# Define the variable_id\n",
    "variable_id = 'Birth Date'\n",
    "\n",
    "# Construct the SQL query to get data_type and fetch integer_value or float_value accordingly\n",
    "query = f\"\"\"\n",
    "SELECT * FROM variable_data WHERE variable_id = '{variable_id}'\n",
    "\"\"\"\n",
    "\n",
    "# Execute the SQL query and fetch a pandas df\n",
    "birth_date_df = conn.execute(query).fetchdf()\n",
    "\n",
    "birth_date_df = birth_date_df.drop(columns = 'id').drop_duplicates() # not sure why duplicates??"
   ]
  },
  {
   "cell_type": "code",
   "execution_count": 20,
   "id": "aff760ae-3038-4ae7-a813-51c1ec1acb27",
   "metadata": {},
   "outputs": [
    {
     "data": {
      "text/html": [
       "<div>\n",
       "<style scoped>\n",
       "    .dataframe tbody tr th:only-of-type {\n",
       "        vertical-align: middle;\n",
       "    }\n",
       "\n",
       "    .dataframe tbody tr th {\n",
       "        vertical-align: top;\n",
       "    }\n",
       "\n",
       "    .dataframe thead th {\n",
       "        text-align: right;\n",
       "    }\n",
       "</style>\n",
       "<table border=\"1\" class=\"dataframe\">\n",
       "  <thead>\n",
       "    <tr style=\"text-align: right;\">\n",
       "      <th></th>\n",
       "      <th>patient_id</th>\n",
       "      <th>variable_id</th>\n",
       "      <th>date</th>\n",
       "      <th>time</th>\n",
       "      <th>transformed</th>\n",
       "      <th>relation</th>\n",
       "      <th>study</th>\n",
       "      <th>table</th>\n",
       "      <th>source_variable_id</th>\n",
       "      <th>source_value_type</th>\n",
       "      <th>string_source_value</th>\n",
       "      <th>integer_source_value</th>\n",
       "      <th>float_source_value</th>\n",
       "      <th>source_encoding</th>\n",
       "      <th>transformation_instruction</th>\n",
       "      <th>data_type</th>\n",
       "      <th>string_value</th>\n",
       "      <th>integer_value</th>\n",
       "      <th>float_value</th>\n",
       "    </tr>\n",
       "  </thead>\n",
       "  <tbody>\n",
       "    <tr>\n",
       "      <th>0</th>\n",
       "      <td>1eb15e7a348a47e03e08063728ff846a56f91aa0c40dc7...</td>\n",
       "      <td>Birth Date</td>\n",
       "      <td>NaN</td>\n",
       "      <td>NaN</td>\n",
       "      <td>1</td>\n",
       "      <td>Mother</td>\n",
       "      <td>ZAF055</td>\n",
       "      <td>ZAF055</td>\n",
       "      <td>inf0203</td>\n",
       "      <td>NaN</td>\n",
       "      <td>NaN</td>\n",
       "      <td>NaN</td>\n",
       "      <td>NaN</td>\n",
       "      <td>NaN</td>\n",
       "      <td>NaN</td>\n",
       "      <td>datetime</td>\n",
       "      <td>2015-07-23</td>\n",
       "      <td>NaN</td>\n",
       "      <td>NaN</td>\n",
       "    </tr>\n",
       "    <tr>\n",
       "      <th>1</th>\n",
       "      <td>5b5aa4da0d67c22b4b22dffd498a8b7d88d0c718382d74...</td>\n",
       "      <td>Birth Date</td>\n",
       "      <td>NaN</td>\n",
       "      <td>NaN</td>\n",
       "      <td>1</td>\n",
       "      <td>Mother</td>\n",
       "      <td>ZAF055</td>\n",
       "      <td>ZAF055</td>\n",
       "      <td>inf0203</td>\n",
       "      <td>NaN</td>\n",
       "      <td>NaN</td>\n",
       "      <td>NaN</td>\n",
       "      <td>NaN</td>\n",
       "      <td>NaN</td>\n",
       "      <td>NaN</td>\n",
       "      <td>datetime</td>\n",
       "      <td>2015-10-15</td>\n",
       "      <td>NaN</td>\n",
       "      <td>NaN</td>\n",
       "    </tr>\n",
       "    <tr>\n",
       "      <th>2</th>\n",
       "      <td>b4ec5af3168edc57458fb52634c0736572cdcb5fb9ef54...</td>\n",
       "      <td>Birth Date</td>\n",
       "      <td>NaN</td>\n",
       "      <td>NaN</td>\n",
       "      <td>1</td>\n",
       "      <td>Mother</td>\n",
       "      <td>ZAF055</td>\n",
       "      <td>ZAF055</td>\n",
       "      <td>inf0203</td>\n",
       "      <td>NaN</td>\n",
       "      <td>NaN</td>\n",
       "      <td>NaN</td>\n",
       "      <td>NaN</td>\n",
       "      <td>NaN</td>\n",
       "      <td>NaN</td>\n",
       "      <td>datetime</td>\n",
       "      <td>2015-08-25</td>\n",
       "      <td>NaN</td>\n",
       "      <td>NaN</td>\n",
       "    </tr>\n",
       "    <tr>\n",
       "      <th>3</th>\n",
       "      <td>d92022ad8c0bb829d452b8db1760ec1aee10a6a1803ea4...</td>\n",
       "      <td>Birth Date</td>\n",
       "      <td>NaN</td>\n",
       "      <td>NaN</td>\n",
       "      <td>1</td>\n",
       "      <td>Mother</td>\n",
       "      <td>ZAF055</td>\n",
       "      <td>ZAF055</td>\n",
       "      <td>inf0203</td>\n",
       "      <td>NaN</td>\n",
       "      <td>NaN</td>\n",
       "      <td>NaN</td>\n",
       "      <td>NaN</td>\n",
       "      <td>NaN</td>\n",
       "      <td>NaN</td>\n",
       "      <td>datetime</td>\n",
       "      <td>2016-02-27</td>\n",
       "      <td>NaN</td>\n",
       "      <td>NaN</td>\n",
       "    </tr>\n",
       "    <tr>\n",
       "      <th>4</th>\n",
       "      <td>1bf498e659d280b7b82f2cd3a32f194c5cadd23ba79d5f...</td>\n",
       "      <td>Birth Date</td>\n",
       "      <td>NaN</td>\n",
       "      <td>NaN</td>\n",
       "      <td>1</td>\n",
       "      <td>Mother</td>\n",
       "      <td>ZAF055</td>\n",
       "      <td>ZAF055</td>\n",
       "      <td>inf0203</td>\n",
       "      <td>NaN</td>\n",
       "      <td>NaN</td>\n",
       "      <td>NaN</td>\n",
       "      <td>NaN</td>\n",
       "      <td>NaN</td>\n",
       "      <td>NaN</td>\n",
       "      <td>datetime</td>\n",
       "      <td>2016-02-25</td>\n",
       "      <td>NaN</td>\n",
       "      <td>NaN</td>\n",
       "    </tr>\n",
       "    <tr>\n",
       "      <th>...</th>\n",
       "      <td>...</td>\n",
       "      <td>...</td>\n",
       "      <td>...</td>\n",
       "      <td>...</td>\n",
       "      <td>...</td>\n",
       "      <td>...</td>\n",
       "      <td>...</td>\n",
       "      <td>...</td>\n",
       "      <td>...</td>\n",
       "      <td>...</td>\n",
       "      <td>...</td>\n",
       "      <td>...</td>\n",
       "      <td>...</td>\n",
       "      <td>...</td>\n",
       "      <td>...</td>\n",
       "      <td>...</td>\n",
       "      <td>...</td>\n",
       "      <td>...</td>\n",
       "      <td>...</td>\n",
       "    </tr>\n",
       "    <tr>\n",
       "      <th>9944</th>\n",
       "      <td>3d661fa0c984f33c025bbb80b4fd89985bc810c8c06378...</td>\n",
       "      <td>Birth Date</td>\n",
       "      <td>2016-12-06</td>\n",
       "      <td>09:45:00</td>\n",
       "      <td>1</td>\n",
       "      <td>Child</td>\n",
       "      <td>MWI524</td>\n",
       "      <td>MWI524</td>\n",
       "      <td>Date_of_Birth</td>\n",
       "      <td>NaN</td>\n",
       "      <td>NaN</td>\n",
       "      <td>NaN</td>\n",
       "      <td>NaN</td>\n",
       "      <td>Direct mapping</td>\n",
       "      <td>NaN</td>\n",
       "      <td>datetime</td>\n",
       "      <td>2016-12-06</td>\n",
       "      <td>NaN</td>\n",
       "      <td>NaN</td>\n",
       "    </tr>\n",
       "    <tr>\n",
       "      <th>9945</th>\n",
       "      <td>c184f25708f081e6f31a8b35a595bf1119e72ff5d73470...</td>\n",
       "      <td>Birth Date</td>\n",
       "      <td>2017-01-29</td>\n",
       "      <td>13:00:00</td>\n",
       "      <td>1</td>\n",
       "      <td>Child</td>\n",
       "      <td>MWI524</td>\n",
       "      <td>MWI524</td>\n",
       "      <td>Date_of_Birth</td>\n",
       "      <td>NaN</td>\n",
       "      <td>NaN</td>\n",
       "      <td>NaN</td>\n",
       "      <td>NaN</td>\n",
       "      <td>Direct mapping</td>\n",
       "      <td>NaN</td>\n",
       "      <td>datetime</td>\n",
       "      <td>2017-01-29</td>\n",
       "      <td>NaN</td>\n",
       "      <td>NaN</td>\n",
       "    </tr>\n",
       "    <tr>\n",
       "      <th>9946</th>\n",
       "      <td>872a6e1747333fb17d22d503f97becbb7580e76b4ced4e...</td>\n",
       "      <td>Birth Date</td>\n",
       "      <td>2017-02-09</td>\n",
       "      <td>01:46:00</td>\n",
       "      <td>1</td>\n",
       "      <td>Child</td>\n",
       "      <td>MWI524</td>\n",
       "      <td>MWI524</td>\n",
       "      <td>Date_of_Birth</td>\n",
       "      <td>NaN</td>\n",
       "      <td>NaN</td>\n",
       "      <td>NaN</td>\n",
       "      <td>NaN</td>\n",
       "      <td>Direct mapping</td>\n",
       "      <td>NaN</td>\n",
       "      <td>datetime</td>\n",
       "      <td>2017-02-09</td>\n",
       "      <td>NaN</td>\n",
       "      <td>NaN</td>\n",
       "    </tr>\n",
       "    <tr>\n",
       "      <th>9947</th>\n",
       "      <td>7c7c624fb30bd4bc81fd10d7c7a82c12f3246e833c4248...</td>\n",
       "      <td>Birth Date</td>\n",
       "      <td>2016-01-31</td>\n",
       "      <td>16:00:00</td>\n",
       "      <td>1</td>\n",
       "      <td>Child</td>\n",
       "      <td>MWI524</td>\n",
       "      <td>MWI524</td>\n",
       "      <td>Date_of_Birth</td>\n",
       "      <td>NaN</td>\n",
       "      <td>NaN</td>\n",
       "      <td>NaN</td>\n",
       "      <td>NaN</td>\n",
       "      <td>Direct mapping</td>\n",
       "      <td>NaN</td>\n",
       "      <td>datetime</td>\n",
       "      <td>2016-01-31</td>\n",
       "      <td>NaN</td>\n",
       "      <td>NaN</td>\n",
       "    </tr>\n",
       "    <tr>\n",
       "      <th>9948</th>\n",
       "      <td>96156122a5b3981444c41bc2aac9c4b4da007fb7b72c8b...</td>\n",
       "      <td>Birth Date</td>\n",
       "      <td>2016-02-05</td>\n",
       "      <td>01:50:00</td>\n",
       "      <td>1</td>\n",
       "      <td>Child</td>\n",
       "      <td>MWI524</td>\n",
       "      <td>MWI524</td>\n",
       "      <td>Date_of_Birth</td>\n",
       "      <td>NaN</td>\n",
       "      <td>NaN</td>\n",
       "      <td>NaN</td>\n",
       "      <td>NaN</td>\n",
       "      <td>Direct mapping</td>\n",
       "      <td>NaN</td>\n",
       "      <td>datetime</td>\n",
       "      <td>2016-02-05</td>\n",
       "      <td>NaN</td>\n",
       "      <td>NaN</td>\n",
       "    </tr>\n",
       "  </tbody>\n",
       "</table>\n",
       "<p>9037 rows × 19 columns</p>\n",
       "</div>"
      ],
      "text/plain": [
       "                                             patient_id variable_id  \\\n",
       "0     1eb15e7a348a47e03e08063728ff846a56f91aa0c40dc7...  Birth Date   \n",
       "1     5b5aa4da0d67c22b4b22dffd498a8b7d88d0c718382d74...  Birth Date   \n",
       "2     b4ec5af3168edc57458fb52634c0736572cdcb5fb9ef54...  Birth Date   \n",
       "3     d92022ad8c0bb829d452b8db1760ec1aee10a6a1803ea4...  Birth Date   \n",
       "4     1bf498e659d280b7b82f2cd3a32f194c5cadd23ba79d5f...  Birth Date   \n",
       "...                                                 ...         ...   \n",
       "9944  3d661fa0c984f33c025bbb80b4fd89985bc810c8c06378...  Birth Date   \n",
       "9945  c184f25708f081e6f31a8b35a595bf1119e72ff5d73470...  Birth Date   \n",
       "9946  872a6e1747333fb17d22d503f97becbb7580e76b4ced4e...  Birth Date   \n",
       "9947  7c7c624fb30bd4bc81fd10d7c7a82c12f3246e833c4248...  Birth Date   \n",
       "9948  96156122a5b3981444c41bc2aac9c4b4da007fb7b72c8b...  Birth Date   \n",
       "\n",
       "            date      time  transformed relation   study   table  \\\n",
       "0            NaN       NaN            1   Mother  ZAF055  ZAF055   \n",
       "1            NaN       NaN            1   Mother  ZAF055  ZAF055   \n",
       "2            NaN       NaN            1   Mother  ZAF055  ZAF055   \n",
       "3            NaN       NaN            1   Mother  ZAF055  ZAF055   \n",
       "4            NaN       NaN            1   Mother  ZAF055  ZAF055   \n",
       "...          ...       ...          ...      ...     ...     ...   \n",
       "9944  2016-12-06  09:45:00            1    Child  MWI524  MWI524   \n",
       "9945  2017-01-29  13:00:00            1    Child  MWI524  MWI524   \n",
       "9946  2017-02-09  01:46:00            1    Child  MWI524  MWI524   \n",
       "9947  2016-01-31  16:00:00            1    Child  MWI524  MWI524   \n",
       "9948  2016-02-05  01:50:00            1    Child  MWI524  MWI524   \n",
       "\n",
       "     source_variable_id source_value_type string_source_value  \\\n",
       "0               inf0203               NaN                 NaN   \n",
       "1               inf0203               NaN                 NaN   \n",
       "2               inf0203               NaN                 NaN   \n",
       "3               inf0203               NaN                 NaN   \n",
       "4               inf0203               NaN                 NaN   \n",
       "...                 ...               ...                 ...   \n",
       "9944      Date_of_Birth               NaN                 NaN   \n",
       "9945      Date_of_Birth               NaN                 NaN   \n",
       "9946      Date_of_Birth               NaN                 NaN   \n",
       "9947      Date_of_Birth               NaN                 NaN   \n",
       "9948      Date_of_Birth               NaN                 NaN   \n",
       "\n",
       "      integer_source_value  float_source_value source_encoding  \\\n",
       "0                      NaN                 NaN             NaN   \n",
       "1                      NaN                 NaN             NaN   \n",
       "2                      NaN                 NaN             NaN   \n",
       "3                      NaN                 NaN             NaN   \n",
       "4                      NaN                 NaN             NaN   \n",
       "...                    ...                 ...             ...   \n",
       "9944                   NaN                 NaN  Direct mapping   \n",
       "9945                   NaN                 NaN  Direct mapping   \n",
       "9946                   NaN                 NaN  Direct mapping   \n",
       "9947                   NaN                 NaN  Direct mapping   \n",
       "9948                   NaN                 NaN  Direct mapping   \n",
       "\n",
       "     transformation_instruction data_type string_value  integer_value  \\\n",
       "0                           NaN  datetime   2015-07-23            NaN   \n",
       "1                           NaN  datetime   2015-10-15            NaN   \n",
       "2                           NaN  datetime   2015-08-25            NaN   \n",
       "3                           NaN  datetime   2016-02-27            NaN   \n",
       "4                           NaN  datetime   2016-02-25            NaN   \n",
       "...                         ...       ...          ...            ...   \n",
       "9944                        NaN  datetime   2016-12-06            NaN   \n",
       "9945                        NaN  datetime   2017-01-29            NaN   \n",
       "9946                        NaN  datetime   2017-02-09            NaN   \n",
       "9947                        NaN  datetime   2016-01-31            NaN   \n",
       "9948                        NaN  datetime   2016-02-05            NaN   \n",
       "\n",
       "      float_value  \n",
       "0             NaN  \n",
       "1             NaN  \n",
       "2             NaN  \n",
       "3             NaN  \n",
       "4             NaN  \n",
       "...           ...  \n",
       "9944          NaN  \n",
       "9945          NaN  \n",
       "9946          NaN  \n",
       "9947          NaN  \n",
       "9948          NaN  \n",
       "\n",
       "[9037 rows x 19 columns]"
      ]
     },
     "execution_count": 20,
     "metadata": {},
     "output_type": "execute_result"
    }
   ],
   "source": [
    "birth_date_df"
   ]
  },
  {
   "cell_type": "code",
   "execution_count": 26,
   "id": "6e69664d-0d5e-4327-a7ca-e3ee6326b825",
   "metadata": {},
   "outputs": [
    {
     "name": "stderr",
     "output_type": "stream",
     "text": [
      "/tmp/ipykernel_13759/411942413.py:9: SettingWithCopyWarning: \n",
      "A value is trying to be set on a copy of a slice from a DataFrame.\n",
      "Try using .loc[row_indexer,col_indexer] = value instead\n",
      "\n",
      "See the caveats in the documentation: https://pandas.pydata.org/pandas-docs/stable/user_guide/indexing.html#returning-a-view-versus-a-copy\n",
      "  df['date_of_birth'] = pd.to_datetime(date_of_birth)\n"
     ]
    }
   ],
   "source": [
    "date_of_birth = []\n",
    "for index, row in df.iterrows():\n",
    "    try:\n",
    "        date_of_birth.append(birth_date_df[birth_date_df.patient_id == row.patient_id].string_value.item())\n",
    "    except:\n",
    "        date_of_birth.append(np.nan)\n",
    "\n",
    "\n",
    "df['date_of_birth'] = pd.to_datetime(date_of_birth) \n",
    "df = df.dropna(how = 'any') # no point keeping data with no date, although could still use as baseline ?"
   ]
  },
  {
   "cell_type": "markdown",
   "id": "919c76e9-681e-471b-88b7-e88b436e2365",
   "metadata": {},
   "source": [
    "Now we need location data \n",
    ":"
   ]
  },
  {
   "cell_type": "code",
   "execution_count": 27,
   "id": "5645787f-7c61-4647-acc2-30c1ca8fb7e8",
   "metadata": {},
   "outputs": [],
   "source": [
    "# Define the variable_id\n",
    "variable_id = 'Location'\n",
    "\n",
    "# Construct the SQL query to get data_type and fetch integer_value or float_value accordingly\n",
    "query = f\"\"\"\n",
    "SELECT * FROM variable_data WHERE variable_id = '{variable_id}'\n",
    "\"\"\"\n",
    "\n",
    "# Execute the SQL query and fetch a pandas df\n",
    "location_df = conn.execute(query).fetchdf()\n",
    "location_df = location_df.drop(columns = 'id').drop_duplicates() # not sure why duplicates??"
   ]
  },
  {
   "cell_type": "code",
   "execution_count": 28,
   "id": "e2302835-71a7-4eaa-bd9c-9e3f20122e0d",
   "metadata": {},
   "outputs": [],
   "source": [
    "location_df = location_df[location_df.study == 'ZAF055'] "
   ]
  },
  {
   "cell_type": "code",
   "execution_count": 29,
   "id": "b9f203e4-e90b-47ca-95de-ac711baa5d25",
   "metadata": {},
   "outputs": [
    {
     "data": {
      "text/plain": [
       "{'DeliveryPlace', 'cliniccode'}"
      ]
     },
     "execution_count": 29,
     "metadata": {},
     "output_type": "execute_result"
    }
   ],
   "source": [
    "set(location_df.source_variable_id)"
   ]
  },
  {
   "cell_type": "markdown",
   "id": "afec88f9-54de-4929-a9ab-9d002a4d20b3",
   "metadata": {},
   "source": [
    "We could subset by births only at clinic but will keep simple, presumably how is close to clinic"
   ]
  },
  {
   "cell_type": "code",
   "execution_count": 30,
   "id": "9b6d2d1d-9d73-408c-b0f7-0ab366335ce7",
   "metadata": {},
   "outputs": [
    {
     "data": {
      "text/plain": [
       "{'Clinic', 'Home', 'Hospital'}"
      ]
     },
     "execution_count": 30,
     "metadata": {},
     "output_type": "execute_result"
    }
   ],
   "source": [
    "set(location_df[location_df.source_variable_id == 'DeliveryPlace'].string_value)"
   ]
  },
  {
   "cell_type": "code",
   "execution_count": 31,
   "id": "558cebf7-177f-4821-8eca-bdb2d18e172a",
   "metadata": {},
   "outputs": [
    {
     "data": {
      "text/plain": [
       "Counter({'Clinic': 276, 'Hospital': 273, 'Home': 4})"
      ]
     },
     "execution_count": 31,
     "metadata": {},
     "output_type": "execute_result"
    }
   ],
   "source": [
    "data = conn.execute(\"SELECT * FROM variable_data WHERE source_variable_id = 'DeliveryPlace'\").fetchall()\n",
    "Counter([x[-3] for x in data]) "
   ]
  },
  {
   "cell_type": "markdown",
   "id": "458b9fec-2e7b-45b8-a85a-0fd467d5472f",
   "metadata": {},
   "source": [
    "very few at home anyway, unclear if hospital location is different to clinicode "
   ]
  },
  {
   "cell_type": "code",
   "execution_count": 32,
   "id": "ba57476d-ed19-474e-8bab-a9d7fce3f753",
   "metadata": {},
   "outputs": [],
   "source": [
    "location_df = location_df[location_df.source_variable_id == 'cliniccode'] # not actually necessary"
   ]
  },
  {
   "cell_type": "code",
   "execution_count": 33,
   "id": "baad8001-135f-4c75-9177-7f0f89048480",
   "metadata": {},
   "outputs": [],
   "source": [
    "location = []\n",
    "for index, row in df.iterrows():\n",
    "    try:\n",
    "        location.append(location_df[location_df.patient_id == row.patient_id].string_value.item())\n",
    "    except:\n",
    "        location.append(np.nan)\n",
    "\n",
    "\n",
    "df['location'] = location \n",
    "df = df.dropna(how = 'any') # no point keeping data with no location"
   ]
  },
  {
   "cell_type": "code",
   "execution_count": 34,
   "id": "54bdf4bc-70e3-4834-9b8f-96bc3a9211aa",
   "metadata": {},
   "outputs": [
    {
     "data": {
      "text/plain": [
       "{'Embalenhle',\n",
       " 'Empumelelweni',\n",
       " 'Grootvlei',\n",
       " 'KwaMhlanga',\n",
       " 'Lebohang',\n",
       " 'Paulina M',\n",
       " 'Phola',\n",
       " 'Siphosesimbi',\n",
       " 'Siyathemba',\n",
       " 'Thembalethu',\n",
       " 'Vlaklaagte',\n",
       " 'Winifred Maboa'}"
      ]
     },
     "execution_count": 34,
     "metadata": {},
     "output_type": "execute_result"
    }
   ],
   "source": [
    "set(df.location)"
   ]
  },
  {
   "cell_type": "markdown",
   "id": "38a014ce-a8b7-4f6c-b914-b407be3ffefb",
   "metadata": {},
   "source": [
    "We now need to link these names to a geoegraphic location"
   ]
  },
  {
   "cell_type": "code",
   "execution_count": 35,
   "id": "a4c0ef6f-f63f-47f4-a08d-e387749402dc",
   "metadata": {},
   "outputs": [
    {
     "data": {
      "text/html": [
       "<div>\n",
       "<style scoped>\n",
       "    .dataframe tbody tr th:only-of-type {\n",
       "        vertical-align: middle;\n",
       "    }\n",
       "\n",
       "    .dataframe tbody tr th {\n",
       "        vertical-align: top;\n",
       "    }\n",
       "\n",
       "    .dataframe thead th {\n",
       "        text-align: right;\n",
       "    }\n",
       "</style>\n",
       "<table border=\"1\" class=\"dataframe\">\n",
       "  <thead>\n",
       "    <tr style=\"text-align: right;\">\n",
       "      <th></th>\n",
       "      <th>Name</th>\n",
       "      <th>Lat</th>\n",
       "      <th>Lon</th>\n",
       "      <th>location_type</th>\n",
       "      <th>country</th>\n",
       "      <th>geometry</th>\n",
       "    </tr>\n",
       "  </thead>\n",
       "  <tbody>\n",
       "    <tr>\n",
       "      <th>0</th>\n",
       "      <td>KwaMhlanga</td>\n",
       "      <td>-25.434771</td>\n",
       "      <td>28.716034</td>\n",
       "      <td>health_facility</td>\n",
       "      <td>ZAF</td>\n",
       "      <td>POINT (28.71603 -25.43477)</td>\n",
       "    </tr>\n",
       "    <tr>\n",
       "      <th>1</th>\n",
       "      <td>Siphosesimbi</td>\n",
       "      <td>-25.861806</td>\n",
       "      <td>29.124198</td>\n",
       "      <td>health_facility</td>\n",
       "      <td>ZAF</td>\n",
       "      <td>POINT (29.12420 -25.86181)</td>\n",
       "    </tr>\n",
       "    <tr>\n",
       "      <th>2</th>\n",
       "      <td>Empumelelweni</td>\n",
       "      <td>-25.854005</td>\n",
       "      <td>29.105850</td>\n",
       "      <td>health_facility</td>\n",
       "      <td>ZAF</td>\n",
       "      <td>POINT (29.10585 -25.85401)</td>\n",
       "    </tr>\n",
       "    <tr>\n",
       "      <th>3</th>\n",
       "      <td>Vlaklaagte</td>\n",
       "      <td>-25.374691</td>\n",
       "      <td>28.860514</td>\n",
       "      <td>health_facility</td>\n",
       "      <td>ZAF</td>\n",
       "      <td>POINT (28.86051 -25.37469)</td>\n",
       "    </tr>\n",
       "    <tr>\n",
       "      <th>4</th>\n",
       "      <td>Thembalethu</td>\n",
       "      <td>-25.407015</td>\n",
       "      <td>28.779195</td>\n",
       "      <td>health_facility</td>\n",
       "      <td>ZAF</td>\n",
       "      <td>POINT (28.77920 -25.40702)</td>\n",
       "    </tr>\n",
       "    <tr>\n",
       "      <th>5</th>\n",
       "      <td>Phola</td>\n",
       "      <td>-25.157834</td>\n",
       "      <td>31.121585</td>\n",
       "      <td>health_facility</td>\n",
       "      <td>ZAF</td>\n",
       "      <td>POINT (31.12158 -25.15783)</td>\n",
       "    </tr>\n",
       "    <tr>\n",
       "      <th>6</th>\n",
       "      <td>Siyathemba</td>\n",
       "      <td>-26.654834</td>\n",
       "      <td>28.606531</td>\n",
       "      <td>health_facility</td>\n",
       "      <td>ZAF</td>\n",
       "      <td>POINT (28.60653 -26.65483)</td>\n",
       "    </tr>\n",
       "    <tr>\n",
       "      <th>7</th>\n",
       "      <td>Grootvlei</td>\n",
       "      <td>-26.800736</td>\n",
       "      <td>28.505088</td>\n",
       "      <td>health_facility</td>\n",
       "      <td>ZAF</td>\n",
       "      <td>POINT (28.50509 -26.80074)</td>\n",
       "    </tr>\n",
       "    <tr>\n",
       "      <th>8</th>\n",
       "      <td>Embalenhle</td>\n",
       "      <td>-26.539228</td>\n",
       "      <td>29.079530</td>\n",
       "      <td>health_facility</td>\n",
       "      <td>ZAF</td>\n",
       "      <td>POINT (29.07953 -26.53923)</td>\n",
       "    </tr>\n",
       "    <tr>\n",
       "      <th>9</th>\n",
       "      <td>Paulina M</td>\n",
       "      <td>-26.562630</td>\n",
       "      <td>29.074431</td>\n",
       "      <td>health_facility</td>\n",
       "      <td>ZAF</td>\n",
       "      <td>POINT (29.07443 -26.56263)</td>\n",
       "    </tr>\n",
       "    <tr>\n",
       "      <th>10</th>\n",
       "      <td>Winifred Maboa</td>\n",
       "      <td>-26.943274</td>\n",
       "      <td>29.219192</td>\n",
       "      <td>health_facility</td>\n",
       "      <td>ZAF</td>\n",
       "      <td>POINT (29.21919 -26.94327)</td>\n",
       "    </tr>\n",
       "    <tr>\n",
       "      <th>11</th>\n",
       "      <td>Lebohang</td>\n",
       "      <td>-26.375244</td>\n",
       "      <td>28.921911</td>\n",
       "      <td>health_facility</td>\n",
       "      <td>ZAF</td>\n",
       "      <td>POINT (28.92191 -26.37524)</td>\n",
       "    </tr>\n",
       "  </tbody>\n",
       "</table>\n",
       "</div>"
      ],
      "text/plain": [
       "              Name        Lat        Lon    location_type country  \\\n",
       "0       KwaMhlanga -25.434771  28.716034  health_facility     ZAF   \n",
       "1     Siphosesimbi -25.861806  29.124198  health_facility     ZAF   \n",
       "2    Empumelelweni -25.854005  29.105850  health_facility     ZAF   \n",
       "3       Vlaklaagte -25.374691  28.860514  health_facility     ZAF   \n",
       "4      Thembalethu -25.407015  28.779195  health_facility     ZAF   \n",
       "5            Phola -25.157834  31.121585  health_facility     ZAF   \n",
       "6       Siyathemba -26.654834  28.606531  health_facility     ZAF   \n",
       "7        Grootvlei -26.800736  28.505088  health_facility     ZAF   \n",
       "8       Embalenhle -26.539228  29.079530  health_facility     ZAF   \n",
       "9        Paulina M -26.562630  29.074431  health_facility     ZAF   \n",
       "10  Winifred Maboa -26.943274  29.219192  health_facility     ZAF   \n",
       "11        Lebohang -26.375244  28.921911  health_facility     ZAF   \n",
       "\n",
       "                      geometry  \n",
       "0   POINT (28.71603 -25.43477)  \n",
       "1   POINT (29.12420 -25.86181)  \n",
       "2   POINT (29.10585 -25.85401)  \n",
       "3   POINT (28.86051 -25.37469)  \n",
       "4   POINT (28.77920 -25.40702)  \n",
       "5   POINT (31.12158 -25.15783)  \n",
       "6   POINT (28.60653 -26.65483)  \n",
       "7   POINT (28.50509 -26.80074)  \n",
       "8   POINT (29.07953 -26.53923)  \n",
       "9   POINT (29.07443 -26.56263)  \n",
       "10  POINT (29.21919 -26.94327)  \n",
       "11  POINT (28.92191 -26.37524)  "
      ]
     },
     "execution_count": 35,
     "metadata": {},
     "output_type": "execute_result"
    }
   ],
   "source": [
    "input_geojson =  Path(Path.home(), f'heat_center/data/health_open/RP1/ZAF055/geolocation/location.geojson')\n",
    "gdf = gpd.read_file(input_geojson)\n",
    "gdf"
   ]
  },
  {
   "cell_type": "code",
   "execution_count": 36,
   "id": "5cde6cfe-7d75-4c00-b08d-6d3e26ade9ce",
   "metadata": {},
   "outputs": [],
   "source": [
    "geometry = []\n",
    "lat = []\n",
    "lon = []\n",
    "for index, row in df.iterrows():\n",
    "    geometry.append(gdf[gdf.Name == row.location].geometry.item())\n",
    "    lat.append(gdf[gdf.Name == row.location].Lat.item())\n",
    "    lon.append(gdf[gdf.Name == row.location].Lon.item())\n",
    "    \n",
    "df['geometry'] = geometry\n",
    "df['lat'] = lat\n",
    "df['lon'] = lon"
   ]
  },
  {
   "cell_type": "markdown",
   "id": "339126f7-1cc4-4f8c-bfb4-c6b4fdabd061",
   "metadata": {},
   "source": [
    "Let's fetch some climate data"
   ]
  },
  {
   "cell_type": "code",
   "execution_count": 37,
   "id": "ad4028e9-a85a-4fd9-bbed-68d6f5295cb1",
   "metadata": {},
   "outputs": [],
   "source": [
    "ds = xr.open_mfdataset(Path(Path.home(),f'heat_center/data/climate/reanalysis/rechunk/ERA5-Land/ERA5-Land_tas.zarr'), engine = 'zarr')"
   ]
  },
  {
   "cell_type": "markdown",
   "id": "f7e27180-4c6e-43e6-9d5e-4048859f056a",
   "metadata": {},
   "source": [
    "and get a sense of scale"
   ]
  },
  {
   "cell_type": "code",
   "execution_count": 38,
   "id": "21159358-4fef-494b-bc4a-b69c3121249c",
   "metadata": {},
   "outputs": [
    {
     "data": {
      "text/plain": [
       "[28.505088, -26.943274, 31.121585, -25.157834]"
      ]
     },
     "execution_count": 38,
     "metadata": {},
     "output_type": "execute_result"
    }
   ],
   "source": [
    "list(gdf.total_bounds)"
   ]
  },
  {
   "cell_type": "code",
   "execution_count": 39,
   "id": "320f5f9c-d234-4185-9ed9-416758901231",
   "metadata": {},
   "outputs": [
    {
     "data": {
      "image/png": "[encoded data removed]",
      "text/plain": [
       "<Figure size 2000x800 with 2 Axes>"
      ]
     },
     "metadata": {},
     "output_type": "display_data"
    }
   ],
   "source": [
    "fig, axs = plt.subplots(1, 1, figsize=(20, 8), subplot_kw=dict(projection=ccrs.PlateCarree()))\n",
    "\n",
    "axs.add_feature(cfeature.COASTLINE)\n",
    "axs.set_extent([10, 40, -35, -5], crs=ccrs.PlateCarree())\n",
    "ds.isel(time = -1).tas.plot(ax = axs)\n",
    "gdf.plot(ax=axs, marker='o', color='red', markersize=10)\n",
    "\n",
    "plt.tight_layout()\n",
    "plt.show()"
   ]
  },
  {
   "cell_type": "markdown",
   "id": "330be770-c763-489e-8835-092a5245a6f4",
   "metadata": {},
   "source": [
    "Nic proposed a while back to create a temperature profile throughout a pregnancy as the integration of the temperature time series experienced during the pregnancy"
   ]
  },
  {
   "cell_type": "code",
   "execution_count": 40,
   "id": "3cf0c05f-afb0-4ae3-bdaa-2d4b5cf19b5c",
   "metadata": {},
   "outputs": [
    {
     "name": "stdout",
     "output_type": "stream",
     "text": [
      "CPU times: user 18.6 s, sys: 2.21 s, total: 20.8 s\n",
      "Wall time: 14.9 s\n"
     ]
    }
   ],
   "source": [
    "%%time\n",
    "ds = ds.sel(latitude = slice(-25,-27), longitude = slice(28,32))\n",
    "ds = ds.sel(time = slice(str(pd.to_datetime(df.date_of_birth.min()) - pd.Timedelta(weeks = 9*4)), df.date_of_birth.max()))\n",
    "ds = ds.resample(time='D').max(dim='time')\n",
    "climatology = ds.groupby('time.dayofyear').mean('time')\n",
    "ds = ds.groupby('time.dayofyear') - climatology\n",
    "ds = ds.compute()"
   ]
  },
  {
   "cell_type": "code",
   "execution_count": 41,
   "id": "7a62ca59-b096-4a3f-ae45-bc22531356d9",
   "metadata": {},
   "outputs": [
    {
     "name": "stdout",
     "output_type": "stream",
     "text": [
      "CPU times: user 677 ms, sys: 19.6 ms, total: 696 ms\n",
      "Wall time: 678 ms\n"
     ]
    }
   ],
   "source": [
    "%%time\n",
    "temp_profiles = []\n",
    "for index, row in df.iterrows():\n",
    "    da = ds.sel(latitude = row.lat, longitude = row.lon, method = 'nearest')\n",
    "    end = pd.to_datetime(row.date_of_birth) + pd.Timedelta(hours = 12)\n",
    "    start = end - pd.Timedelta(weeks = 40)\n",
    "    da = da.sel(time = slice(start, end))\n",
    "    temp_profiles.append(da.tas.mean(dim = 'time').item())\n",
    "    \n",
    "df['temp_profiles'] = temp_profiles"
   ]
  },
  {
   "cell_type": "code",
   "execution_count": 42,
   "id": "3be42833-ff78-42f2-85df-1c6bb9b899f7",
   "metadata": {},
   "outputs": [],
   "source": [
    "percentile_90 = df['temp_profiles'].quantile(0.9)\n",
    "subset_top_90 = df[df['temp_profiles'] >= percentile_90]\n",
    "rest = df[df['temp_profiles'] < percentile_90]"
   ]
  },
  {
   "cell_type": "code",
   "execution_count": 43,
   "id": "9d687a78-976a-4e8d-90c2-654e63b3cbd1",
   "metadata": {},
   "outputs": [
    {
     "data": {
      "text/plain": [
       "9.813953488372093"
      ]
     },
     "execution_count": 43,
     "metadata": {},
     "output_type": "execute_result"
    }
   ],
   "source": [
    "subset_top_90.apgar_score.mean()"
   ]
  },
  {
   "cell_type": "code",
   "execution_count": 44,
   "id": "063c1305-87d8-43a7-99c5-35e00868c39b",
   "metadata": {},
   "outputs": [
    {
     "data": {
      "text/plain": [
       "9.811023622047244"
      ]
     },
     "execution_count": 44,
     "metadata": {},
     "output_type": "execute_result"
    }
   ],
   "source": [
    "rest.apgar_score.mean()"
   ]
  },
  {
   "cell_type": "code",
   "execution_count": 45,
   "id": "f285a351-bb3f-4f97-a014-6de319553af2",
   "metadata": {},
   "outputs": [
    {
     "data": {
      "text/plain": [
       "<matplotlib.legend.Legend at 0x7f3664423ac0>"
      ]
     },
     "execution_count": 45,
     "metadata": {},
     "output_type": "execute_result"
    },
    {
     "data": {
      "image/png": "[encoded data removed]",
      "text/plain": [
       "<Figure size 1000x600 with 1 Axes>"
      ]
     },
     "metadata": {},
     "output_type": "display_data"
    }
   ],
   "source": [
    "plt.figure(figsize=(10, 6))\n",
    "\n",
    "plt.hist(rest['apgar_score'], bins=5, color='green', label='Rest')\n",
    "plt.hist(subset_top_90['apgar_score'], bins=5, color='red', label='Top 90th Percentile')\n",
    "\n",
    "plt.xlabel('Apgar Score')\n",
    "plt.ylabel('Frequency')\n",
    "plt.legend()"
   ]
  },
  {
   "cell_type": "markdown",
   "id": "9b0a3e45-930c-463c-9409-fb852db2d3b9",
   "metadata": {},
   "source": [
    "This has only been ZAF055 but to confirm data for MWI198 does exist"
   ]
  },
  {
   "cell_type": "code",
   "execution_count": 46,
   "id": "81910858-9a31-47d1-a52e-b7010c3a424d",
   "metadata": {},
   "outputs": [],
   "source": [
    "# Construct the SQL query to get data_type and fetch integer_value or float_value accordingly\n",
    "query = f\"\"\"\n",
    "SELECT * FROM variable_data WHERE study = 'MWI198'\n",
    "\"\"\"\n",
    "\n",
    "# Execute the SQL query and fetch a pandas df\n",
    "df = conn.execute(query).fetchdf()"
   ]
  },
  {
   "cell_type": "code",
   "execution_count": 47,
   "id": "1c12fc79-b397-4a8e-8d72-2edf986fa1b3",
   "metadata": {},
   "outputs": [
    {
     "data": {
      "text/plain": [
       "{'Adverse Event',\n",
       " 'Birth Date',\n",
       " 'Body Weight',\n",
       " 'Death Indicator',\n",
       " 'Employment Status',\n",
       " 'Gastroenteritis',\n",
       " 'Height',\n",
       " 'Highly Active Antiretroviral Therapy',\n",
       " 'Hospitalization',\n",
       " 'Hypertension',\n",
       " 'Location',\n",
       " 'Number of Fetuses',\n",
       " 'Pneumonia ',\n",
       " 'Syphilis',\n",
       " 'Upper Respiratory Tract Infection'}"
      ]
     },
     "execution_count": 47,
     "metadata": {},
     "output_type": "execute_result"
    }
   ],
   "source": [
    "set(df.variable_id)"
   ]
  },
  {
   "cell_type": "code",
   "execution_count": 48,
   "id": "9e5b9e30-b734-4ff2-8a93-66a3d1369fad",
   "metadata": {},
   "outputs": [
    {
     "data": {
      "text/plain": [
       "Counter({'no': 25583, 'yes': 420})"
      ]
     },
     "execution_count": 48,
     "metadata": {},
     "output_type": "execute_result"
    }
   ],
   "source": [
    "from collections import Counter\n",
    "\n",
    "data = conn.execute(\"SELECT * FROM variable_data WHERE variable_id = 'Gastroenteritis'\").fetchall()\n",
    "Counter([x[-3] for x in data]) "
   ]
  },
  {
   "cell_type": "code",
   "execution_count": 49,
   "id": "3bd20b2c-64c3-4b9b-b849-12ffd9c09950",
   "metadata": {},
   "outputs": [
    {
     "data": {
      "text/plain": [
       "{'Adverse Event',\n",
       " 'Antepartum Hemorrhage',\n",
       " 'Birth Date',\n",
       " 'Body Weight',\n",
       " 'CD4 Expressing Cell Count',\n",
       " 'Congenital Abnormalities',\n",
       " 'Delivery Procedure',\n",
       " 'Eclampsia',\n",
       " 'Employment Status',\n",
       " 'GAIA Level 3b Assessment of Gestational Age',\n",
       " 'HIV Viral Load Measurement',\n",
       " 'Height',\n",
       " 'Hemoglobin',\n",
       " 'Highly Active Antiretroviral Therapy',\n",
       " 'Hypertension',\n",
       " 'Hypertension-Associated Pregnancy Disorder',\n",
       " 'Location',\n",
       " 'Low Birth Weight',\n",
       " 'Malaria',\n",
       " 'Neonatal Sepsis',\n",
       " 'Noncompliance with antiretroviral medication regimen (finding)',\n",
       " 'Placental Abruption',\n",
       " 'Preterm Birth',\n",
       " 'Systolic Blood Pressure',\n",
       " 'Tuberculosis',\n",
       " 'placenta praevia',\n",
       " 'postpartum hemorrhage'}"
      ]
     },
     "execution_count": 49,
     "metadata": {},
     "output_type": "execute_result"
    }
   ],
   "source": [
    "# Construct the SQL query to get data_type and fetch integer_value or float_value accordingly\n",
    "query = f\"\"\"\n",
    "SELECT * FROM variable_data WHERE study = 'MWI524'\n",
    "\"\"\"\n",
    "\n",
    "# Execute the SQL query and fetch a pandas df\n",
    "df = conn.execute(query).fetchdf()\n",
    "\n",
    "set(df.variable_id)"
   ]
  },
  {
   "cell_type": "code",
   "execution_count": 50,
   "id": "e79b4c5c-712e-4ba1-aff2-5f0bdecc38b2",
   "metadata": {},
   "outputs": [
    {
     "data": {
      "text/plain": [
       "Counter({'no': 1439, 'yes': 1})"
      ]
     },
     "execution_count": 50,
     "metadata": {},
     "output_type": "execute_result"
    }
   ],
   "source": [
    "data = conn.execute(\"SELECT * FROM variable_data WHERE variable_id = 'Low Birth Weight'\").fetchall()\n",
    "Counter([x[-3] for x in data]) "
   ]
  },
  {
   "cell_type": "code",
   "execution_count": 51,
   "id": "8c3fc82b-44c3-4b0c-9e74-0098466435b0",
   "metadata": {},
   "outputs": [
    {
     "data": {
      "text/plain": [
       "Counter({'yes': 465, 'no': 4308})"
      ]
     },
     "execution_count": 51,
     "metadata": {},
     "output_type": "execute_result"
    }
   ],
   "source": [
    "data = conn.execute(\"SELECT * FROM variable_data WHERE variable_id = 'Preterm Birth'\").fetchall()\n",
    "Counter([x[-3] for x in data]) "
   ]
  },
  {
   "cell_type": "code",
   "execution_count": 52,
   "id": "a3ff94a8-c20f-49ff-b910-b676c48141e7",
   "metadata": {},
   "outputs": [
    {
     "data": {
      "text/plain": [
       "4773"
      ]
     },
     "execution_count": 52,
     "metadata": {},
     "output_type": "execute_result"
    }
   ],
   "source": [
    "len(data)"
   ]
  },
  {
   "cell_type": "code",
   "execution_count": 53,
   "id": "d73430ca-ab9d-4114-b254-1bcd777f4198",
   "metadata": {},
   "outputs": [
    {
     "data": {
      "text/plain": [
       "Counter({'ZAF055': 3333, 'MWI524': 1440})"
      ]
     },
     "execution_count": 53,
     "metadata": {},
     "output_type": "execute_result"
    }
   ],
   "source": [
    "Counter([x[7] for x in data]) "
   ]
  },
  {
   "cell_type": "markdown",
   "id": "0ad27420-87b1-4046-8459-8af1c7412057",
   "metadata": {},
   "source": [
    "Can we write a function to link location data for both theses studies?"
   ]
  },
  {
   "cell_type": "code",
   "execution_count": 54,
   "id": "9ee4ee69-5ce7-4ea9-92fa-859e7aab9e32",
   "metadata": {},
   "outputs": [],
   "source": [
    "study = 'ZAF055'\n",
    "variable_id = 'Preterm Birth'\n",
    "location_source_variable_name = 'cliniccode'"
   ]
  },
  {
   "cell_type": "code",
   "execution_count": 55,
   "id": "f99c240e-13fe-4d37-8690-58c280fb7541",
   "metadata": {},
   "outputs": [],
   "source": [
    "def return_geolocated_df(study, variable_id, location_source_variable_name):\n",
    "    # Construct the SQL query to get data_type and fetch integer_value or float_value accordingly\n",
    "    query = f\"\"\"\n",
    "    SELECT * FROM variable_data WHERE variable_id = '{variable_id}' AND study = '{study}'\n",
    "    \"\"\"\n",
    "\n",
    "    # Execute the SQL query and fetch a pandas df\n",
    "    df = conn.execute(query).fetchdf()\n",
    "    df = df.drop(columns = 'id').drop_duplicates()  # this is dropping rows with all cols identical, not sure why duplicates are present \n",
    "    \n",
    "    df['date'] = pd.to_datetime(df['date'], errors = 'coerce')\n",
    "\n",
    "    if df['data_type'].iloc[0] == 'str':\n",
    "        df = df[['patient_id', 'date', 'string_value']]\n",
    "        df = df.rename(columns = {'string_value':variable_id})\n",
    "\n",
    "    # Construct the SQL query to get data_type and fetch integer_value or float_value accordingly\n",
    "    query = f\"\"\"\n",
    "    SELECT * FROM variable_data WHERE variable_id = 'Location' AND study = '{study}'\n",
    "    \"\"\"\n",
    "\n",
    "    # Execute the SQL query and fetch a pandas df\n",
    "    location_df = conn.execute(query).fetchdf()\n",
    "    location_df = location_df.drop(columns = 'id').drop_duplicates() # not sure why duplicates??\n",
    "\n",
    "    location_df = location_df[location_df.source_variable_id == location_source_variable_name]\n",
    "\n",
    "    location = []\n",
    "    for index, row in df.iterrows():\n",
    "        try:\n",
    "            location.append(location_df[location_df.patient_id == row.patient_id].string_value.item())\n",
    "        except:\n",
    "            location.append(np.nan)\n",
    "\n",
    "\n",
    "    df['location'] = location \n",
    "    df = df.dropna(how = 'any') # no point keeping data with no location\n",
    "\n",
    "    input_geojson =  Path(Path.home(), f'heat_center/data/health_open/RP1/{study}/geolocation/location.geojson')\n",
    "    gdf = gpd.read_file(input_geojson)\n",
    "\n",
    "    geometry = []\n",
    "    lat = []\n",
    "    lon = []\n",
    "    for index, row in df.iterrows():\n",
    "        geometry.append(gdf[gdf.Name == row.location].geometry.item())\n",
    "        lat.append(gdf[gdf.Name == row.location].Lat.item())\n",
    "        lon.append(gdf[gdf.Name == row.location].Lon.item())\n",
    "\n",
    "    df['geometry'] = geometry\n",
    "    df['lat'] = lat\n",
    "    df['lon'] = lon\n",
    "    df['study'] = study\n",
    "\n",
    "    return df"
   ]
  },
  {
   "cell_type": "code",
   "execution_count": 75,
   "id": "6b7cdd3d-f8f2-4d82-8508-e7c8b8d9ef16",
   "metadata": {},
   "outputs": [],
   "source": [
    "df = pd.concat([return_geolocated_df('ZAF055', 'Preterm Birth', 'cliniccode'), return_geolocated_df('MWI524', 'Preterm Birth', '22dec_infant_birtth_Clinic_ID')])"
   ]
  },
  {
   "cell_type": "code",
   "execution_count": 80,
   "id": "43976868-00e9-4b21-8c7e-915166c08ac3",
   "metadata": {},
   "outputs": [],
   "source": [
    "df = df[df.date > '1990'] # fix bug"
   ]
  },
  {
   "cell_type": "code",
   "execution_count": 81,
   "id": "319076b1-ddff-43b7-b415-f128b533139a",
   "metadata": {},
   "outputs": [
    {
     "data": {
      "text/plain": [
       "'2014-01-01'"
      ]
     },
     "execution_count": 81,
     "metadata": {},
     "output_type": "execute_result"
    }
   ],
   "source": [
    "df.date.min()"
   ]
  },
  {
   "cell_type": "code",
   "execution_count": 82,
   "id": "97b2fcfa-73cf-4cd1-9e16-fcb647935ff1",
   "metadata": {},
   "outputs": [],
   "source": [
    "%%time\n",
    "ds = xr.open_mfdataset(Path(Path.home(),f'heat_center/data/climate/reanalysis/rechunk/ERA5-Land/ERA5-Land_tas.zarr'), engine = 'zarr')\n",
    "\n",
    "ds = ds.sel(time = slice(str(pd.to_datetime(df.date.min()) - pd.Timedelta(weeks = 9*4)), df.date.max()))\n",
    "ds = ds.resample(time='D').max(dim='time')\n",
    "\n",
    "climatology = ds.groupby('time.dayofyear').mean('time') # important when considering multiple countries/studies you are just taking a subset from the hottest or coldest geographic region\n",
    "ds = ds.groupby('time.dayofyear') - climatology"
   ]
  },
  {
   "cell_type": "markdown",
   "id": "f086cf17-f807-4b32-bf55-acf6552f28f7",
   "metadata": {},
   "source": [
    "This should rather go location by location to speed things up!"
   ]
  },
  {
   "cell_type": "code",
   "execution_count": 84,
   "id": "1252aa9c-055d-4c52-aa60-6b06159d4879",
   "metadata": {},
   "outputs": [
    {
     "name": "stdout",
     "output_type": "stream",
     "text": [
      "CPU times: user 3min 44s, sys: 26.3 s, total: 4min 11s\n",
      "Wall time: 3min 21s\n"
     ]
    }
   ],
   "source": [
    "%%time\n",
    "temp_profile_by_location = {}\n",
    "for location in list(set(df.location)):\n",
    "    lat = df[df.location == location].iloc[0].lat\n",
    "    lon = df[df.location == location].iloc[0].lon\n",
    "    da = ds.sel(latitude = lat, longitude = lon, method = 'nearest')\n",
    "    temp_profile_by_location[location] = da.tas.compute()"
   ]
  },
  {
   "cell_type": "code",
   "execution_count": 94,
   "id": "7f7ca46c-c1b7-4f0f-9a7c-eae4a7f444b9",
   "metadata": {},
   "outputs": [
    {
     "name": "stdout",
     "output_type": "stream",
     "text": [
      "CPU times: user 4.43 s, sys: 27.9 ms, total: 4.46 s\n",
      "Wall time: 4.47 s\n"
     ]
    }
   ],
   "source": [
    "%%time\n",
    "temp_profiles = []\n",
    "for index, row in df.iterrows():\n",
    "    da = temp_profile_by_location[row.location]\n",
    "    da = da.sel(time = slice(str(pd.to_datetime(df.date.min()) - pd.Timedelta(weeks = 40)), row.date))\n",
    "    temp_profiles.append(da.mean(dim = 'time').item())\n",
    "    \n",
    "df['temp_profiles'] = temp_profiles"
   ]
  },
  {
   "cell_type": "markdown",
   "id": "f6a6c0be-363b-46f4-8bf9-a08ac7bb2006",
   "metadata": {},
   "source": [
    "Was 22 hours now around 10 mins"
   ]
  },
  {
   "cell_type": "code",
   "execution_count": 95,
   "id": "6796c5ee-5853-4349-bf64-d076ee75e8a9",
   "metadata": {},
   "outputs": [
    {
     "data": {
      "text/plain": [
       "2228"
      ]
     },
     "execution_count": 95,
     "metadata": {},
     "output_type": "execute_result"
    }
   ],
   "source": [
    "len(df)"
   ]
  },
  {
   "cell_type": "code",
   "execution_count": 96,
   "id": "bd34abc0-a609-49ed-9135-cfec8779ea9f",
   "metadata": {},
   "outputs": [
    {
     "data": {
      "text/plain": [
       "location\n",
       "QECH              549\n",
       "Limbe             337\n",
       "Bangwe            257\n",
       "Ndirande          236\n",
       "Siyathemba        109\n",
       "Thembalethu        98\n",
       "Embalenhle         97\n",
       "KwaMhlanga         81\n",
       "Paulina M          78\n",
       "Phola              63\n",
       "Chilomoni          60\n",
       "Vlaklaagte         59\n",
       "Lebohang           53\n",
       "Empumelelweni      44\n",
       "Siphosesimbi       42\n",
       "Grootvlei          38\n",
       "Winifred Maboa     27\n",
       "Name: count, dtype: int64"
      ]
     },
     "execution_count": 96,
     "metadata": {},
     "output_type": "execute_result"
    }
   ],
   "source": [
    "df.location.value_counts()"
   ]
  },
  {
   "cell_type": "code",
   "execution_count": 97,
   "id": "390bcccd-7ca7-44cf-829c-adc4c190d39b",
   "metadata": {},
   "outputs": [
    {
     "data": {
      "text/html": [
       "<div>\n",
       "<style scoped>\n",
       "    .dataframe tbody tr th:only-of-type {\n",
       "        vertical-align: middle;\n",
       "    }\n",
       "\n",
       "    .dataframe tbody tr th {\n",
       "        vertical-align: top;\n",
       "    }\n",
       "\n",
       "    .dataframe thead th {\n",
       "        text-align: right;\n",
       "    }\n",
       "</style>\n",
       "<table border=\"1\" class=\"dataframe\">\n",
       "  <thead>\n",
       "    <tr style=\"text-align: right;\">\n",
       "      <th></th>\n",
       "      <th>patient_id</th>\n",
       "      <th>date</th>\n",
       "      <th>Preterm Birth</th>\n",
       "      <th>location</th>\n",
       "      <th>geometry</th>\n",
       "      <th>lat</th>\n",
       "      <th>lon</th>\n",
       "      <th>study</th>\n",
       "      <th>temp_profiles</th>\n",
       "    </tr>\n",
       "  </thead>\n",
       "  <tbody>\n",
       "    <tr>\n",
       "      <th>0</th>\n",
       "      <td>1eb15e7a348a47e03e08063728ff846a56f91aa0c40dc7...</td>\n",
       "      <td>2015-07-23</td>\n",
       "      <td>yes</td>\n",
       "      <td>KwaMhlanga</td>\n",
       "      <td>POINT (28.716034 -25.434771)</td>\n",
       "      <td>-25.434771</td>\n",
       "      <td>28.716034</td>\n",
       "      <td>ZAF055</td>\n",
       "      <td>-0.320598</td>\n",
       "    </tr>\n",
       "    <tr>\n",
       "      <th>1</th>\n",
       "      <td>5b5aa4da0d67c22b4b22dffd498a8b7d88d0c718382d74...</td>\n",
       "      <td>2015-10-15</td>\n",
       "      <td>no</td>\n",
       "      <td>KwaMhlanga</td>\n",
       "      <td>POINT (28.716034 -25.434771)</td>\n",
       "      <td>-25.434771</td>\n",
       "      <td>28.716034</td>\n",
       "      <td>ZAF055</td>\n",
       "      <td>-0.207071</td>\n",
       "    </tr>\n",
       "    <tr>\n",
       "      <th>2</th>\n",
       "      <td>b4ec5af3168edc57458fb52634c0736572cdcb5fb9ef54...</td>\n",
       "      <td>2015-08-25</td>\n",
       "      <td>yes</td>\n",
       "      <td>KwaMhlanga</td>\n",
       "      <td>POINT (28.716034 -25.434771)</td>\n",
       "      <td>-25.434771</td>\n",
       "      <td>28.716034</td>\n",
       "      <td>ZAF055</td>\n",
       "      <td>-0.263551</td>\n",
       "    </tr>\n",
       "    <tr>\n",
       "      <th>3</th>\n",
       "      <td>d92022ad8c0bb829d452b8db1760ec1aee10a6a1803ea4...</td>\n",
       "      <td>2016-02-27</td>\n",
       "      <td>no</td>\n",
       "      <td>KwaMhlanga</td>\n",
       "      <td>POINT (28.716034 -25.434771)</td>\n",
       "      <td>-25.434771</td>\n",
       "      <td>28.716034</td>\n",
       "      <td>ZAF055</td>\n",
       "      <td>0.043508</td>\n",
       "    </tr>\n",
       "    <tr>\n",
       "      <th>4</th>\n",
       "      <td>1bf498e659d280b7b82f2cd3a32f194c5cadd23ba79d5f...</td>\n",
       "      <td>2016-02-25</td>\n",
       "      <td>no</td>\n",
       "      <td>KwaMhlanga</td>\n",
       "      <td>POINT (28.716034 -25.434771)</td>\n",
       "      <td>-25.434771</td>\n",
       "      <td>28.716034</td>\n",
       "      <td>ZAF055</td>\n",
       "      <td>0.043375</td>\n",
       "    </tr>\n",
       "    <tr>\n",
       "      <th>...</th>\n",
       "      <td>...</td>\n",
       "      <td>...</td>\n",
       "      <td>...</td>\n",
       "      <td>...</td>\n",
       "      <td>...</td>\n",
       "      <td>...</td>\n",
       "      <td>...</td>\n",
       "      <td>...</td>\n",
       "      <td>...</td>\n",
       "    </tr>\n",
       "    <tr>\n",
       "      <th>1435</th>\n",
       "      <td>3d661fa0c984f33c025bbb80b4fd89985bc810c8c06378...</td>\n",
       "      <td>2016-12-06</td>\n",
       "      <td>no</td>\n",
       "      <td>QECH</td>\n",
       "      <td>POINT (35.02 15.8)</td>\n",
       "      <td>15.800000</td>\n",
       "      <td>35.020000</td>\n",
       "      <td>MWI524</td>\n",
       "      <td>-0.074178</td>\n",
       "    </tr>\n",
       "    <tr>\n",
       "      <th>1436</th>\n",
       "      <td>c184f25708f081e6f31a8b35a595bf1119e72ff5d73470...</td>\n",
       "      <td>2017-01-29</td>\n",
       "      <td>no</td>\n",
       "      <td>QECH</td>\n",
       "      <td>POINT (35.02 15.8)</td>\n",
       "      <td>15.800000</td>\n",
       "      <td>35.020000</td>\n",
       "      <td>MWI524</td>\n",
       "      <td>0.009786</td>\n",
       "    </tr>\n",
       "    <tr>\n",
       "      <th>1437</th>\n",
       "      <td>872a6e1747333fb17d22d503f97becbb7580e76b4ced4e...</td>\n",
       "      <td>2017-02-09</td>\n",
       "      <td>no</td>\n",
       "      <td>QECH</td>\n",
       "      <td>POINT (35.02 15.8)</td>\n",
       "      <td>15.800000</td>\n",
       "      <td>35.020000</td>\n",
       "      <td>MWI524</td>\n",
       "      <td>0.002938</td>\n",
       "    </tr>\n",
       "    <tr>\n",
       "      <th>1438</th>\n",
       "      <td>7c7c624fb30bd4bc81fd10d7c7a82c12f3246e833c4248...</td>\n",
       "      <td>2016-01-31</td>\n",
       "      <td>no</td>\n",
       "      <td>Limbe</td>\n",
       "      <td>POINT (35.05 -15.81)</td>\n",
       "      <td>-15.810000</td>\n",
       "      <td>35.050000</td>\n",
       "      <td>MWI524</td>\n",
       "      <td>-0.029220</td>\n",
       "    </tr>\n",
       "    <tr>\n",
       "      <th>1439</th>\n",
       "      <td>96156122a5b3981444c41bc2aac9c4b4da007fb7b72c8b...</td>\n",
       "      <td>2016-02-05</td>\n",
       "      <td>no</td>\n",
       "      <td>Limbe</td>\n",
       "      <td>POINT (35.05 -15.81)</td>\n",
       "      <td>-15.810000</td>\n",
       "      <td>35.050000</td>\n",
       "      <td>MWI524</td>\n",
       "      <td>-0.029465</td>\n",
       "    </tr>\n",
       "  </tbody>\n",
       "</table>\n",
       "<p>2228 rows × 9 columns</p>\n",
       "</div>"
      ],
      "text/plain": [
       "                                             patient_id        date  \\\n",
       "0     1eb15e7a348a47e03e08063728ff846a56f91aa0c40dc7...  2015-07-23   \n",
       "1     5b5aa4da0d67c22b4b22dffd498a8b7d88d0c718382d74...  2015-10-15   \n",
       "2     b4ec5af3168edc57458fb52634c0736572cdcb5fb9ef54...  2015-08-25   \n",
       "3     d92022ad8c0bb829d452b8db1760ec1aee10a6a1803ea4...  2016-02-27   \n",
       "4     1bf498e659d280b7b82f2cd3a32f194c5cadd23ba79d5f...  2016-02-25   \n",
       "...                                                 ...         ...   \n",
       "1435  3d661fa0c984f33c025bbb80b4fd89985bc810c8c06378...  2016-12-06   \n",
       "1436  c184f25708f081e6f31a8b35a595bf1119e72ff5d73470...  2017-01-29   \n",
       "1437  872a6e1747333fb17d22d503f97becbb7580e76b4ced4e...  2017-02-09   \n",
       "1438  7c7c624fb30bd4bc81fd10d7c7a82c12f3246e833c4248...  2016-01-31   \n",
       "1439  96156122a5b3981444c41bc2aac9c4b4da007fb7b72c8b...  2016-02-05   \n",
       "\n",
       "     Preterm Birth    location                      geometry        lat  \\\n",
       "0              yes  KwaMhlanga  POINT (28.716034 -25.434771) -25.434771   \n",
       "1               no  KwaMhlanga  POINT (28.716034 -25.434771) -25.434771   \n",
       "2              yes  KwaMhlanga  POINT (28.716034 -25.434771) -25.434771   \n",
       "3               no  KwaMhlanga  POINT (28.716034 -25.434771) -25.434771   \n",
       "4               no  KwaMhlanga  POINT (28.716034 -25.434771) -25.434771   \n",
       "...            ...         ...                           ...        ...   \n",
       "1435            no        QECH            POINT (35.02 15.8)  15.800000   \n",
       "1436            no        QECH            POINT (35.02 15.8)  15.800000   \n",
       "1437            no        QECH            POINT (35.02 15.8)  15.800000   \n",
       "1438            no       Limbe          POINT (35.05 -15.81) -15.810000   \n",
       "1439            no       Limbe          POINT (35.05 -15.81) -15.810000   \n",
       "\n",
       "            lon   study  temp_profiles  \n",
       "0     28.716034  ZAF055      -0.320598  \n",
       "1     28.716034  ZAF055      -0.207071  \n",
       "2     28.716034  ZAF055      -0.263551  \n",
       "3     28.716034  ZAF055       0.043508  \n",
       "4     28.716034  ZAF055       0.043375  \n",
       "...         ...     ...            ...  \n",
       "1435  35.020000  MWI524      -0.074178  \n",
       "1436  35.020000  MWI524       0.009786  \n",
       "1437  35.020000  MWI524       0.002938  \n",
       "1438  35.050000  MWI524      -0.029220  \n",
       "1439  35.050000  MWI524      -0.029465  \n",
       "\n",
       "[2228 rows x 9 columns]"
      ]
     },
     "execution_count": 97,
     "metadata": {},
     "output_type": "execute_result"
    }
   ],
   "source": [
    "df"
   ]
  },
  {
   "cell_type": "code",
   "execution_count": 98,
   "id": "54238fd1-1577-429d-80d5-9c2b04fafb84",
   "metadata": {},
   "outputs": [],
   "source": [
    "percentile_90 = df['temp_profiles'].quantile(0.90)\n",
    "subset_top_90 = df[df['temp_profiles'] >= percentile_90]\n",
    "rest = df[df['temp_profiles'] < percentile_90]"
   ]
  },
  {
   "cell_type": "code",
   "execution_count": 99,
   "id": "58b0e224-eec6-438f-bd87-0d878df68282",
   "metadata": {},
   "outputs": [
    {
     "data": {
      "image/png": "[encoded data removed]",
      "text/plain": [
       "<Figure size 1000x600 with 1 Axes>"
      ]
     },
     "metadata": {},
     "output_type": "display_data"
    }
   ],
   "source": [
    "# Create bins for the histograms\n",
    "bins = np.array([0, 1, 2]) - 0.25  # Adjusted for shifting\n",
    "\n",
    "# Create a figure\n",
    "plt.figure(figsize=(10, 6))\n",
    "\n",
    "# Plot the histograms\n",
    "plt.hist(rest['Preterm Birth'], bins=bins, color='green', density = True, label='Rest', alpha=0.5, width=0.25, align='left')\n",
    "plt.hist(subset_top_90['Preterm Birth'], bins=bins+0.25, color='red', density = True, label='Top 90th Percentile', alpha=0.5, width=0.25, align='left')\n",
    "\n",
    "# Add labels and legend\n",
    "plt.xlabel('Preterm Birth')\n",
    "plt.ylabel('Frequency')\n",
    "plt.legend()\n",
    "\n",
    "# Adjust x-axis labels to show categories\n",
    "plt.xticks([-0.5, 0.5], ['yes', 'no'])\n",
    "\n",
    "# Show the plot\n",
    "plt.show()"
   ]
  },
  {
   "cell_type": "code",
   "execution_count": 100,
   "id": "b6dd8340-00b8-4939-848a-e4ae75787e58",
   "metadata": {},
   "outputs": [],
   "source": [
    "import seaborn as sns"
   ]
  },
  {
   "cell_type": "code",
   "execution_count": 101,
   "id": "c717b240-3119-4bc2-a193-7028f0b6fab5",
   "metadata": {},
   "outputs": [
    {
     "name": "stderr",
     "output_type": "stream",
     "text": [
      "/share/apps/anaconda3-2022.05/envs/pangeo/lib/python3.10/site-packages/seaborn/_oldcore.py:1119: FutureWarning: use_inf_as_na option is deprecated and will be removed in a future version. Convert inf values to NaN before operating instead.\n",
      "  with pd.option_context('mode.use_inf_as_na', True):\n",
      "/share/apps/anaconda3-2022.05/envs/pangeo/lib/python3.10/site-packages/seaborn/_oldcore.py:1119: FutureWarning: use_inf_as_na option is deprecated and will be removed in a future version. Convert inf values to NaN before operating instead.\n",
      "  with pd.option_context('mode.use_inf_as_na', True):\n"
     ]
    },
    {
     "data": {
      "text/plain": [
       "<matplotlib.legend.Legend at 0x7f3638999d20>"
      ]
     },
     "execution_count": 101,
     "metadata": {},
     "output_type": "execute_result"
    },
    {
     "data": {
      "image/png": "[encoded data removed]",
      "text/plain": [
       "<Figure size 640x480 with 1 Axes>"
      ]
     },
     "metadata": {},
     "output_type": "display_data"
    }
   ],
   "source": [
    "sns.kdeplot(rest['temp_profiles'] - 273.15, lw = 2, color = 'green', label='Rest')\n",
    "sns.kdeplot(subset_top_90['temp_profiles'] - 273.15, lw = 2, color = 'red', label='Top 90th Percentile')\n",
    "\n",
    "plt.legend()"
   ]
  },
  {
   "cell_type": "code",
   "execution_count": 102,
   "id": "f132fa14-bb9f-4082-aad0-d4a9de64606c",
   "metadata": {},
   "outputs": [],
   "source": [
    "percentile_10 = df['temp_profiles'].quantile(0.10)\n",
    "subset_bottom_10 = df[df['temp_profiles'] <= percentile_10]\n",
    "rest = df[df['temp_profiles'] > percentile_10]"
   ]
  },
  {
   "cell_type": "code",
   "execution_count": 103,
   "id": "8172e356-70fa-4140-9cf3-5368b2f3bb12",
   "metadata": {},
   "outputs": [
    {
     "data": {
      "image/png": "[encoded data removed]",
      "text/plain": [
       "<Figure size 1000x600 with 1 Axes>"
      ]
     },
     "metadata": {},
     "output_type": "display_data"
    }
   ],
   "source": [
    "# Create bins for the histograms\n",
    "bins = np.array([0, 1, 2]) - 0.25  # Adjusted for shifting\n",
    "\n",
    "# Create a figure\n",
    "plt.figure(figsize=(10, 6))\n",
    "\n",
    "# Plot the histograms\n",
    "plt.hist(rest['Preterm Birth'], bins=bins, color='green', density = True, label='Rest', alpha=0.5, width=0.25, align='left')\n",
    "plt.hist(subset_bottom_10['Preterm Birth'], bins=bins+0.25, color='blue', density = True, label='Coldest up to 10th Percentile', alpha=0.5, width=0.25, align='left')\n",
    "\n",
    "# Add labels and legend\n",
    "plt.xlabel('Preterm Birth')\n",
    "plt.ylabel('Frequency')\n",
    "plt.legend()\n",
    "\n",
    "# Adjust x-axis labels to show categories\n",
    "plt.xticks([-0.5, 0.5], ['yes', 'no'])\n",
    "\n",
    "# Show the plot\n",
    "plt.show()"
   ]
  },
  {
   "cell_type": "code",
   "execution_count": 104,
   "id": "bf97c415-aee5-4821-838f-271a3001258d",
   "metadata": {},
   "outputs": [
    {
     "name": "stderr",
     "output_type": "stream",
     "text": [
      "/share/apps/anaconda3-2022.05/envs/pangeo/lib/python3.10/site-packages/seaborn/_oldcore.py:1119: FutureWarning: use_inf_as_na option is deprecated and will be removed in a future version. Convert inf values to NaN before operating instead.\n",
      "  with pd.option_context('mode.use_inf_as_na', True):\n",
      "/share/apps/anaconda3-2022.05/envs/pangeo/lib/python3.10/site-packages/seaborn/_oldcore.py:1119: FutureWarning: use_inf_as_na option is deprecated and will be removed in a future version. Convert inf values to NaN before operating instead.\n",
      "  with pd.option_context('mode.use_inf_as_na', True):\n"
     ]
    },
    {
     "data": {
      "text/plain": [
       "<matplotlib.legend.Legend at 0x7f361e162fe0>"
      ]
     },
     "execution_count": 104,
     "metadata": {},
     "output_type": "execute_result"
    },
    {
     "data": {
      "image/png": "[encoded data removed]",
      "text/plain": [
       "<Figure size 640x480 with 1 Axes>"
      ]
     },
     "metadata": {},
     "output_type": "display_data"
    }
   ],
   "source": [
    "sns.kdeplot(rest['temp_profiles'] - 273.15, lw = 2, color = 'green', label='Rest')\n",
    "sns.kdeplot(subset_bottom_10['temp_profiles'] - 273.15, lw = 2, color = 'blue', label='Coldest up to 10th Percentile')\n",
    "\n",
    "plt.legend()"
   ]
  },
  {
   "cell_type": "markdown",
   "id": "b298d36c-503d-4288-b75d-e59238ca9b89",
   "metadata": {},
   "source": [
    "## SQLAlchemy"
   ]
  },
  {
   "cell_type": "markdown",
   "id": "d6bbb63f-b4c0-44b2-9f43-710646f997c3",
   "metadata": {},
   "source": [
    "The database can alse be accesd via the SQLAlchemy ORM. I prefer sql but your mileage may vary...."
   ]
  },
  {
   "cell_type": "code",
   "execution_count": 64,
   "id": "13eb5fa7-2d69-4083-856e-177e045c3f07",
   "metadata": {},
   "outputs": [],
   "source": [
    "from sqlalchemy import create_engine\n",
    "from sqlalchemy.orm import sessionmaker\n",
    "import sys\n",
    "sys.path.insert(1, '/terra/projects/heat_center/data/health_open/database/definition')\n",
    "from HE2AT_data_model_definition import Base, Codebook, VariableData, Study, Patient"
   ]
  },
  {
   "cell_type": "code",
   "execution_count": 65,
   "id": "15cada2e-9b1c-4e10-83e0-73387f0b068c",
   "metadata": {},
   "outputs": [],
   "source": [
    "# Create the database engine and session\n",
    "engine = create_engine(f\"sqlite:///{(Path(Path.home(),'heat_center/data/health_open/database/data/RP1.db'))}\")\n",
    "Session = sessionmaker(bind=engine)\n",
    "session = Session()"
   ]
  },
  {
   "cell_type": "code",
   "execution_count": 66,
   "id": "d8ba6c2e-1e0d-489d-8e72-1afc078e3874",
   "metadata": {},
   "outputs": [],
   "source": [
    "# Get all available variable names from codebook that have associated data in variable_data\n",
    "filtered_var_names = session.query(Codebook.variable_name.distinct()) \\\n",
    "    .join(VariableData, Codebook.variable_name == VariableData.variable_id) \\\n",
    "    .all()"
   ]
  },
  {
   "cell_type": "code",
   "execution_count": 67,
   "id": "82e60b1d-3602-4bc5-aed1-0a5949934289",
   "metadata": {},
   "outputs": [
    {
     "data": {
      "text/plain": [
       "[('Birth Date',),\n",
       " ('Age-Years',),\n",
       " ('Race',),\n",
       " ('Sex',),\n",
       " ('Height',),\n",
       " ('Body Weight',),\n",
       " ('Body Mass Index',),\n",
       " ('Location',),\n",
       " ('Smoking Status',),\n",
       " ('Alcohol Abuse',),\n",
       " ('Employment Status',),\n",
       " ('Hypertension',),\n",
       " ('Delivery Procedure',),\n",
       " ('Number of Fetuses',),\n",
       " ('Preterm Birth',),\n",
       " ('Gestational Age at Birth (weeks)',),\n",
       " ('Birth Weight',),\n",
       " ('Apgar Score',),\n",
       " ('Death Indicator',),\n",
       " ('Perinatal Mortality ',),\n",
       " ('Hospitalization',),\n",
       " ('Gastroenteritis',),\n",
       " ('Pneumonia ',),\n",
       " ('Syphilis',),\n",
       " ('HIV Status',),\n",
       " ('HIV Viral Load Measurement',),\n",
       " ('CD4 Expressing Cell Count',),\n",
       " ('Highly Active Antiretroviral Therapy',),\n",
       " ('Noncompliance with antiretroviral medication regimen (finding)',),\n",
       " ('Upper Respiratory Tract Infection',),\n",
       " ('Adverse Event',),\n",
       " ('Systolic Blood Pressure',),\n",
       " ('Diastolic Blood Pressure',)]"
      ]
     },
     "execution_count": 67,
     "metadata": {},
     "output_type": "execute_result"
    }
   ],
   "source": [
    "filtered_var_names"
   ]
  },
  {
   "cell_type": "code",
   "execution_count": 68,
   "id": "7bfb9e64-26a1-4c67-b059-33f980651e9d",
   "metadata": {},
   "outputs": [
    {
     "data": {
      "text/plain": [
       "[('ZAF055',),\n",
       " ('MWI198',),\n",
       " ('MWI088',),\n",
       " ('MWI026',),\n",
       " ('MWI021',),\n",
       " ('MWI094',),\n",
       " ('ZAF124',),\n",
       " ('MWI524',),\n",
       " ('ZAF357',),\n",
       " ('ZAF014',),\n",
       " ('MUL140',),\n",
       " ('MUL159',),\n",
       " ('MWI049',),\n",
       " ('KEN539',),\n",
       " ('ZAF192',),\n",
       " ('KEN086',),\n",
       " ('TZA556',),\n",
       " ('ZAF155',),\n",
       " ('MWI097',),\n",
       " ('MWI532',),\n",
       " ('ZAF358',),\n",
       " ('MUL006',)]"
      ]
     },
     "execution_count": 68,
     "metadata": {},
     "output_type": "execute_result"
    }
   ],
   "source": [
    "session.query(Study.name).all()"
   ]
  }
 ],
 "metadata": {
  "kernelspec": {
   "display_name": "Pangeo",
   "language": "python",
   "name": "pangeo"
  },
  "language_info": {
   "codemirror_mode": {
    "name": "ipython",
    "version": 3
   },
   "file_extension": ".py",
   "mimetype": "text/x-python",
   "name": "python",
   "nbconvert_exporter": "python",
   "pygments_lexer": "ipython3",
   "version": "3.10.9"
  }
 },
 "nbformat": 4,
 "nbformat_minor": 5
}
