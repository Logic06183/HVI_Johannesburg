{
 "cells": [
  {
   "cell_type": "code",
   "execution_count": 1,
   "metadata": {},
   "outputs": [],
   "source": [
    "import ee\n",
    "ee.Authenticate()\n",
    "ee.Initialize()\n"
   ]
  },
  {
   "cell_type": "code",
   "execution_count": 3,
   "metadata": {},
   "outputs": [
    {
     "data": {
      "text/html": [
       "\n",
       "            <style>\n",
       "                .geemap-dark {\n",
       "                    --jp-widgets-color: white;\n",
       "                    --jp-widgets-label-color: white;\n",
       "                    --jp-ui-font-color1: white;\n",
       "                    --jp-layout-color2: #454545;\n",
       "                    background-color: #383838;\n",
       "                }\n",
       "\n",
       "                .geemap-dark .jupyter-button {\n",
       "                    --jp-layout-color3: #383838;\n",
       "                }\n",
       "\n",
       "                .geemap-colab {\n",
       "                    background-color: var(--colab-primary-surface-color, white);\n",
       "                }\n",
       "\n",
       "                .geemap-colab .jupyter-button {\n",
       "                    --jp-layout-color3: var(--colab-primary-surface-color, white);\n",
       "                }\n",
       "            </style>\n",
       "            "
      ],
      "text/plain": [
       "<IPython.core.display.HTML object>"
      ]
     },
     "metadata": {},
     "output_type": "display_data"
    },
    {
     "data": {
      "application/vnd.jupyter.widget-view+json": {
       "model_id": "da254407e1404abe988b0af2ea9e1017",
       "version_major": 2,
       "version_minor": 0
      },
      "text/plain": [
       "Map(center=[-2.5, 20], controls=(WidgetControl(options=['position', 'transparent_bg'], widget=SearchDataGUI(ch…"
      ]
     },
     "metadata": {},
     "output_type": "display_data"
    }
   ],
   "source": [
    "import ee\n",
    "import geemap\n",
    "\n",
    "# Initialize the Earth Engine module\n",
    "ee.Initialize()\n",
    "\n",
    "# Create a map centered on Africa\n",
    "Map = geemap.Map(center=[-2.5, 20], zoom=3)\n",
    "\n",
    "# Define the countries and number of studies\n",
    "data = {\n",
    "    'Abidjan': {'lat': 5.36, 'lon': -4.01, 'n': 20},\n",
    "    'Johannesburg': {'lat': -26.20, 'lon': 28.03, 'n': 38},\n",
    "    'Multi-country': {'lat': 0, 'lon': -20, 'n': 40},\n",
    "    'Mali': {'lat': 17, 'lon': -4, 'n': 2},\n",
    "    'Ethiopia': {'lat': 9, 'lon': 39, 'n': 19},\n",
    "    'Nigeria': {'lat': 10, 'lon': 8, 'n': 9},\n",
    "    'Kenya': {'lat': 1, 'lon': 38, 'n': 17},\n",
    "    'Uganda': {'lat': 1.5, 'lon': 32, 'n': 17},\n",
    "    'Ghana': {'lat': 7.9, 'lon': -1.02, 'n': 10},\n",
    "    'Tanzania': {'lat': -6.36, 'lon': 34.8, 'n': 21},\n",
    "    'Malawi': {'lat': -13.3, 'lon': 34, 'n': 18},\n",
    "    'Mozambique': {'lat': -18.66, 'lon': 35.5, 'n': 4},\n",
    "    'Zambia': {'lat': -15, 'lon': 30, 'n': 4},\n",
    "    'Zimbabwe': {'lat': -19, 'lon': 30, 'n': 6},\n",
    "    'Rwanda': {'lat': -2, 'lon': 30, 'n': 8},\n",
    "    'Botswana': {'lat': -22, 'lon': 24, 'n': 2},\n",
    "    'Dem. Rep. Congo': {'lat': -4, 'lon': 21, 'n': 3},\n",
    "    'Sierra Leone': {'lat': 8.5, 'lon': -11.5, 'n': 1},\n",
    "    'South Africa': {'lat': -30, 'lon': 24, 'n': 31},\n",
    "    'Lesotho': {'lat': -29.6, 'lon': 28.2, 'n': 2},\n",
    "    'Senegal': {'lat': 14.5, 'lon': -14.5, 'n': 3},\n",
    "}\n",
    "\n",
    "# Define the size of the circles representing the number of studies\n",
    "def circle_size(n):\n",
    "    return n * 20000  # Adjust this factor for appropriate circle size\n",
    "\n",
    "# Add study locations to the map\n",
    "for key, value in data.items():\n",
    "    lat = value['lat']\n",
    "    lon = value['lon']\n",
    "    n = value['n']\n",
    "    \n",
    "    point = ee.Geometry.Point([lon, lat])\n",
    "    circle = point.buffer(circle_size(n)).bounds()\n",
    "    \n",
    "    Map.addLayer(circle, {'color': 'blue' if key == 'Abidjan' else 'red'}, key)\n",
    "    Map.addLayer(ee.FeatureCollection([ee.Feature(point)]), {}, key + f' (n={n})')\n",
    "\n",
    "# Add custom text as a title\n",
    "Map.add_text(\n",
    "    \"Number of Studies in Relevant Sub-Saharan African Countries (RP1 & RP2)\", \n",
    "    position=\"topleft\", \n",
    "    font_size=20, \n",
    "    font_color=\"black\"\n",
    ")\n",
    "\n",
    "# Add country borders for better visual understanding\n",
    "Map.addLayer(ee.FeatureCollection(\"USDOS/LSIB/2017\"), {}, \"Borders\")\n",
    "\n",
    "# Display the map\n",
    "Map\n"
   ]
  },
  {
   "cell_type": "code",
   "execution_count": 4,
   "metadata": {},
   "outputs": [
    {
     "data": {
      "text/html": [
       "\n",
       "            <style>\n",
       "                .geemap-dark {\n",
       "                    --jp-widgets-color: white;\n",
       "                    --jp-widgets-label-color: white;\n",
       "                    --jp-ui-font-color1: white;\n",
       "                    --jp-layout-color2: #454545;\n",
       "                    background-color: #383838;\n",
       "                }\n",
       "\n",
       "                .geemap-dark .jupyter-button {\n",
       "                    --jp-layout-color3: #383838;\n",
       "                }\n",
       "\n",
       "                .geemap-colab {\n",
       "                    background-color: var(--colab-primary-surface-color, white);\n",
       "                }\n",
       "\n",
       "                .geemap-colab .jupyter-button {\n",
       "                    --jp-layout-color3: var(--colab-primary-surface-color, white);\n",
       "                }\n",
       "            </style>\n",
       "            "
      ],
      "text/plain": [
       "<IPython.core.display.HTML object>"
      ]
     },
     "metadata": {},
     "output_type": "display_data"
    },
    {
     "data": {
      "application/vnd.jupyter.widget-view+json": {
       "model_id": "feecf52213f04711956496185997addf",
       "version_major": 2,
       "version_minor": 0
      },
      "text/plain": [
       "Map(center=[-2.5, 20], controls=(WidgetControl(options=['position', 'transparent_bg'], widget=SearchDataGUI(ch…"
      ]
     },
     "metadata": {},
     "output_type": "display_data"
    }
   ],
   "source": [
    "import ee\n",
    "import geemap\n",
    "\n",
    "# Initialize the Earth Engine module\n",
    "ee.Initialize()\n",
    "\n",
    "# Create a map centered on Africa\n",
    "Map = geemap.Map(center=[-2.5, 20], zoom=3)\n",
    "\n",
    "# Define the countries and number of studies\n",
    "data = {\n",
    "    'Abidjan': {'lat': 5.36, 'lon': -4.01, 'n': 20},\n",
    "    'Johannesburg': {'lat': -26.20, 'lon': 28.03, 'n': 38},\n",
    "    'Multi-country': {'lat': 0, 'lon': -20, 'n': 40},\n",
    "    'Mali': {'lat': 17, 'lon': -4, 'n': 2},\n",
    "    'Ethiopia': {'lat': 9, 'lon': 39, 'n': 19},\n",
    "    'Nigeria': {'lat': 10, 'lon': 8, 'n': 9},\n",
    "    'Kenya': {'lat': 1, 'lon': 38, 'n': 17},\n",
    "    'Uganda': {'lat': 1.5, 'lon': 32, 'n': 17},\n",
    "    'Ghana': {'lat': 7.9, 'lon': -1.02, 'n': 10},\n",
    "    'Tanzania': {'lat': -6.36, 'lon': 34.8, 'n': 21},\n",
    "    'Malawi': {'lat': -13.3, 'lon': 34, 'n': 18},\n",
    "    'Mozambique': {'lat': -18.66, 'lon': 35.5, 'n': 4},\n",
    "    'Zambia': {'lat': -15, 'lon': 30, 'n': 4},\n",
    "    'Zimbabwe': {'lat': -19, 'lon': 30, 'n': 6},\n",
    "    'Rwanda': {'lat': -2, 'lon': 30, 'n': 8},\n",
    "    'Botswana': {'lat': -22, 'lon': 24, 'n': 2},\n",
    "    'Dem. Rep. Congo': {'lat': -4, 'lon': 21, 'n': 3},\n",
    "    'Sierra Leone': {'lat': 8.5, 'lon': -11.5, 'n': 1},\n",
    "    'South Africa': {'lat': -30, 'lon': 24, 'n': 31},\n",
    "    'Lesotho': {'lat': -29.6, 'lon': 28.2, 'n': 2},\n",
    "    'Senegal': {'lat': 14.5, 'lon': -14.5, 'n': 3},\n",
    "}\n",
    "\n",
    "# Define the size of the circles representing the number of studies\n",
    "def circle_size(n):\n",
    "    return n * 20000  # Adjust this factor for appropriate circle size\n",
    "\n",
    "# Add study locations to the map\n",
    "for key, value in data.items():\n",
    "    lat = value['lat']\n",
    "    lon = value['lon']\n",
    "    n = value['n']\n",
    "    \n",
    "    point = ee.Geometry.Point([lon, lat])\n",
    "    circle = point.buffer(circle_size(n)).bounds()\n",
    "    \n",
    "    Map.addLayer(circle, {'color': 'blue' if key == 'Abidjan' else 'red'}, key)\n",
    "    Map.addLayer(ee.FeatureCollection([ee.Feature(point)]), {}, key + f' (n={n})')\n",
    "\n",
    "\n",
    "\n",
    "# Add country borders for better visual understanding\n",
    "Map.addLayer(ee.FeatureCollection(\"USDOS/LSIB/2017\"), {}, \"Borders\")\n",
    "\n",
    "# Display the map\n",
    "Map\n"
   ]
  },
  {
   "cell_type": "code",
   "execution_count": 5,
   "metadata": {},
   "outputs": [
    {
     "data": {
      "text/html": [
       "\n",
       "            <style>\n",
       "                .geemap-dark {\n",
       "                    --jp-widgets-color: white;\n",
       "                    --jp-widgets-label-color: white;\n",
       "                    --jp-ui-font-color1: white;\n",
       "                    --jp-layout-color2: #454545;\n",
       "                    background-color: #383838;\n",
       "                }\n",
       "\n",
       "                .geemap-dark .jupyter-button {\n",
       "                    --jp-layout-color3: #383838;\n",
       "                }\n",
       "\n",
       "                .geemap-colab {\n",
       "                    background-color: var(--colab-primary-surface-color, white);\n",
       "                }\n",
       "\n",
       "                .geemap-colab .jupyter-button {\n",
       "                    --jp-layout-color3: var(--colab-primary-surface-color, white);\n",
       "                }\n",
       "            </style>\n",
       "            "
      ],
      "text/plain": [
       "<IPython.core.display.HTML object>"
      ]
     },
     "metadata": {},
     "output_type": "display_data"
    },
    {
     "data": {
      "application/vnd.jupyter.widget-view+json": {
       "model_id": "f10d6cf66ab740f98677cc3ebf9d3129",
       "version_major": 2,
       "version_minor": 0
      },
      "text/plain": [
       "Map(center=[0, 20], controls=(WidgetControl(options=['position', 'transparent_bg'], widget=SearchDataGUI(child…"
      ]
     },
     "metadata": {},
     "output_type": "display_data"
    }
   ],
   "source": [
    "import ee\n",
    "import geemap\n",
    "\n",
    "# Initialize the Earth Engine module\n",
    "ee.Initialize()\n",
    "\n",
    "# Create a map centered on Africa\n",
    "Map = geemap.Map(center=[0, 20], zoom=3)\n",
    "\n",
    "# Define the countries and number of studies\n",
    "data = {\n",
    "    'Abidjan': {'lat': 5.36, 'lon': -4.01, 'n': 20, 'color': 'blue'},\n",
    "    'Johannesburg': {'lat': -26.20, 'lon': 28.03, 'n': 38, 'color': 'red'},\n",
    "    'Multi-country': {'lat': 0, 'lon': -20, 'n': 40, 'color': 'purple'},\n",
    "    'Mali': {'lat': 17, 'lon': -4, 'n': 2, 'color': 'orange'},\n",
    "    'Ethiopia': {'lat': 9, 'lon': 39, 'n': 19, 'color': 'green'},\n",
    "    'Nigeria': {'lat': 10, 'lon': 8, 'n': 9, 'color': 'yellow'},\n",
    "    'Kenya': {'lat': 1, 'lon': 38, 'n': 17, 'color': 'cyan'},\n",
    "    'Uganda': {'lat': 1.5, 'lon': 32, 'n': 17, 'color': 'magenta'},\n",
    "    'Ghana': {'lat': 7.9, 'lon': -1.02, 'n': 10, 'color': 'lime'},\n",
    "    'Tanzania': {'lat': -6.36, 'lon': 34.8, 'n': 21, 'color': 'pink'},\n",
    "    'Malawi': {'lat': -13.3, 'lon': 34, 'n': 18, 'color': 'coral'},\n",
    "    'Mozambique': {'lat': -18.66, 'lon': 35.5, 'n': 4, 'color': 'salmon'},\n",
    "    'Zambia': {'lat': -15, 'lon': 30, 'n': 4, 'color': 'olive'},\n",
    "    'Zimbabwe': {'lat': -19, 'lon': 30, 'n': 6, 'color': 'peru'},\n",
    "    'Rwanda': {'lat': -2, 'lon': 30, 'n': 8, 'color': 'navy'},\n",
    "    'Botswana': {'lat': -22, 'lon': 24, 'n': 2, 'color': 'teal'},\n",
    "    'Dem. Rep. Congo': {'lat': -4, 'lon': 21, 'n': 3, 'color': 'violet'},\n",
    "    'Sierra Leone': {'lat': 8.5, 'lon': -11.5, 'n': 1, 'color': 'indigo'},\n",
    "    'South Africa': {'lat': -30, 'lon': 24, 'n': 31, 'color': 'crimson'},\n",
    "    'Lesotho': {'lat': -29.6, 'lon': 28.2, 'n': 2, 'color': 'gold'},\n",
    "    'Senegal': {'lat': 14.5, 'lon': -14.5, 'n': 3, 'color': 'silver'},\n",
    "}\n",
    "\n",
    "# Define the size of the circles representing the number of studies\n",
    "def circle_size(n):\n",
    "    return n * 5000  # Adjust the size factor for better visuals\n",
    "\n",
    "# Add study locations to the map\n",
    "for key, value in data.items():\n",
    "    lat = value['lat']\n",
    "    lon = value['lon']\n",
    "    n = value['n']\n",
    "    color = value['color']\n",
    "    \n",
    "    point = ee.Geometry.Point([lon, lat])\n",
    "    circle = point.buffer(circle_size(n)).bounds()\n",
    "    \n",
    "    Map.addLayer(circle, {'color': color, 'opacity': 0.6}, key)\n",
    "    Map.addLayer(ee.FeatureCollection([ee.Feature(point)]), {'color': 'black'}, key + f' (n={n})')\n",
    "\n",
    "# Add country borders for better visual understanding\n",
    "Map.addLayer(ee.FeatureCollection(\"USDOS/LSIB/2017\"), {'color': 'black'}, \"Borders\")\n",
    "\n",
    "# Simplify the layers and legend display\n",
    "Map.addLayerControl()\n",
    "\n",
    "# Display the map\n",
    "Map\n"
   ]
  },
  {
   "cell_type": "code",
   "execution_count": 7,
   "metadata": {},
   "outputs": [
    {
     "data": {
      "text/html": [
       "\n",
       "            <style>\n",
       "                .geemap-dark {\n",
       "                    --jp-widgets-color: white;\n",
       "                    --jp-widgets-label-color: white;\n",
       "                    --jp-ui-font-color1: white;\n",
       "                    --jp-layout-color2: #454545;\n",
       "                    background-color: #383838;\n",
       "                }\n",
       "\n",
       "                .geemap-dark .jupyter-button {\n",
       "                    --jp-layout-color3: #383838;\n",
       "                }\n",
       "\n",
       "                .geemap-colab {\n",
       "                    background-color: var(--colab-primary-surface-color, white);\n",
       "                }\n",
       "\n",
       "                .geemap-colab .jupyter-button {\n",
       "                    --jp-layout-color3: var(--colab-primary-surface-color, white);\n",
       "                }\n",
       "            </style>\n",
       "            "
      ],
      "text/plain": [
       "<IPython.core.display.HTML object>"
      ]
     },
     "metadata": {},
     "output_type": "display_data"
    },
    {
     "name": "stdout",
     "output_type": "stream",
     "text": [
      "GeoJSON file created at studies_map.geojson\n"
     ]
    }
   ],
   "source": [
    "import json\n",
    "\n",
    "# Define the countries and number of studies\n",
    "data = {\n",
    "    'Abidjan': {'lat': 5.36, 'lon': -4.01, 'n': 20, 'color': '#0000FF'},  # blue\n",
    "    'Johannesburg': {'lat': -26.20, 'lon': 28.03, 'n': 38, 'color': '#FF0000'},  # red\n",
    "    'Multi-country': {'lat': 0, 'lon': -20, 'n': 40, 'color': '#800080'},  # purple\n",
    "    'Mali': {'lat': 17, 'lon': -4, 'n': 2, 'color': '#FFA500'},  # orange\n",
    "    'Ethiopia': {'lat': 9, 'lon': 39, 'n': 19, 'color': '#008000'},  # green\n",
    "    'Nigeria': {'lat': 10, 'lon': 8, 'n': 9, 'color': '#FFFF00'},  # yellow\n",
    "    'Kenya': {'lat': 1, 'lon': 38, 'n': 17, 'color': '#00FFFF'},  # cyan\n",
    "    'Uganda': {'lat': 1.5, 'lon': 32, 'n': 17, 'color': '#FF00FF'},  # magenta\n",
    "    'Ghana': {'lat': 7.9, 'lon': -1.02, 'n': 10, 'color': '#00FF00'},  # lime\n",
    "    'Tanzania': {'lat': -6.36, 'lon': 34.8, 'n': 21, 'color': '#FFC0CB'},  # pink\n",
    "    'Malawi': {'lat': -13.3, 'lon': 34, 'n': 18, 'color': '#FF7F50'},  # coral\n",
    "    'Mozambique': {'lat': -18.66, 'lon': 35.5, 'n': 4, 'color': '#FA8072'},  # salmon\n",
    "    'Zambia': {'lat': -15, 'lon': 30, 'n': 4, 'color': '#808000'},  # olive\n",
    "    'Zimbabwe': {'lat': -19, 'lon': 30, 'n': 6, 'color': '#CD853F'},  # peru\n",
    "    'Rwanda': {'lat': -2, 'lon': 30, 'n': 8, 'color': '#000080'},  # navy\n",
    "    'Botswana': {'lat': -22, 'lon': 24, 'n': 2, 'color': '#008080'},  # teal\n",
    "    'Dem. Rep. Congo': {'lat': -4, 'lon': 21, 'n': 3, 'color': '#EE82EE'},  # violet\n",
    "    'Sierra Leone': {'lat': 8.5, 'lon': -11.5, 'n': 1, 'color': '#4B0082'},  # indigo\n",
    "    'South Africa': {'lat': -30, 'lon': 24, 'n': 31, 'color': '#DC143C'},  # crimson\n",
    "    'Lesotho': {'lat': -29.6, 'lon': 28.2, 'n': 2, 'color': '#FFD700'},  # gold\n",
    "    'Senegal': {'lat': 14.5, 'lon': -14.5, 'n': 3, 'color': '#C0C0C0'},  # silver\n",
    "}\n",
    "\n",
    "# Create a GeoJSON feature collection\n",
    "features = []\n",
    "for key, value in data.items():\n",
    "    feature = {\n",
    "        \"type\": \"Feature\",\n",
    "        \"geometry\": {\n",
    "            \"type\": \"Point\",\n",
    "            \"coordinates\": [value['lon'], value['lat']]\n",
    "        },\n",
    "        \"properties\": {\n",
    "            \"name\": key,\n",
    "            \"number_of_studies\": value['n'],\n",
    "            \"color\": value['color']\n",
    "        }\n",
    "    }\n",
    "    features.append(feature)\n",
    "\n",
    "geojson_data = {\n",
    "    \"type\": \"FeatureCollection\",\n",
    "    \"features\": features\n",
    "}\n",
    "\n",
    "# Save to a GeoJSON file\n",
    "output_file = 'studies_map.geojson'\n",
    "with open(output_file, 'w') as f:\n",
    "    json.dump(geojson_data, f, indent=2)\n",
    "\n",
    "print(f\"GeoJSON file created at {output_file}\")\n"
   ]
  },
  {
   "cell_type": "code",
   "execution_count": 9,
   "metadata": {},
   "outputs": [
    {
     "data": {
      "text/html": [
       "\n",
       "            <style>\n",
       "                .geemap-dark {\n",
       "                    --jp-widgets-color: white;\n",
       "                    --jp-widgets-label-color: white;\n",
       "                    --jp-ui-font-color1: white;\n",
       "                    --jp-layout-color2: #454545;\n",
       "                    background-color: #383838;\n",
       "                }\n",
       "\n",
       "                .geemap-dark .jupyter-button {\n",
       "                    --jp-layout-color3: #383838;\n",
       "                }\n",
       "\n",
       "                .geemap-colab {\n",
       "                    background-color: var(--colab-primary-surface-color, white);\n",
       "                }\n",
       "\n",
       "                .geemap-colab .jupyter-button {\n",
       "                    --jp-layout-color3: var(--colab-primary-surface-color, white);\n",
       "                }\n",
       "            </style>\n",
       "            "
      ],
      "text/plain": [
       "<IPython.core.display.HTML object>"
      ]
     },
     "metadata": {},
     "output_type": "display_data"
    },
    {
     "data": {
      "application/vnd.jupyter.widget-view+json": {
       "model_id": "407fda29f5eb4e81a41ce0dfe1e8bc23",
       "version_major": 2,
       "version_minor": 0
      },
      "text/plain": [
       "Map(center=[0, 0], controls=(WidgetControl(options=['position', 'transparent_bg'], widget=SearchDataGUI(childr…"
      ]
     },
     "metadata": {},
     "output_type": "display_data"
    },
    {
     "data": {
      "application/javascript": "\n        var code = IPython.notebook.insert_cell_below('code');\n        code.set_text(atob(\"dmlzX3BhcmFtcyA9IHsnYmFuZHMnOiBbJ0NsaW1hdGVfQ2xhc3MnXSwgJ3BhbGV0dGUnOiBbJyM3ZmM5N2YnLCAnICNmZGMwODYnLCAnICNmMDAyN2YnLCAnICM2NjY2NjYnXSwgJ21pbic6IDAuMCwgJ21heCc6IDEuMCwgJ29wYWNpdHknOiAwLjQ5LCAnZ2FtbWEnOiAxLjB9\"));\n    ",
      "text/plain": [
       "<IPython.core.display.Javascript object>"
      ]
     },
     "metadata": {},
     "output_type": "display_data"
    },
    {
     "name": "stdout",
     "output_type": "stream",
     "text": [
      "vis_params = {'bands': ['Climate_Class'], 'palette': ['#7fc97f', ' #fdc086', ' #f0027f', ' #666666'], 'min': 0.0, 'max': 1.0, 'opacity': 0.49, 'gamma': 1.0}\n"
     ]
    }
   ],
   "source": [
    "import geemap\n",
    "import ee\n",
    "\n",
    "# Initialize Earth Engine\n",
    "ee.Initialize()\n",
    "\n",
    "# Load the Köppen-Geiger raster from Earth Engine or your local file\n",
    "# If using a local file, you can skip geemap and directly use QGIS to import it\n",
    "# Here's how to load a raster from Earth Engine (if available)\n",
    "\n",
    "# Example: Suppose you have a Köppen-Geiger dataset in Earth Engine\n",
    "# Replace 'YOUR_DATASET_ID' with the actual dataset ID\n",
    "# koppen = ee.Image('YOUR_DATASET_ID')\n",
    "\n",
    "# Since there's no direct Köppen-Geiger dataset in EE, alternatively, use WorldClim data\n",
    "# For demonstration, we'll use temperature and precipitation layers to create a simple classification\n",
    "\n",
    "# Load temperature and precipitation data (WorldClim)\n",
    "temperature = ee.Image('WORLDCLIM/V1/BIO').select('bio01')  # Annual Mean Temperature\n",
    "precipitation = ee.Image('WORLDCLIM/V1/BIO').select('bio12')  # Annual Precipitation\n",
    "\n",
    "# Simple classification example (not actual Köppen-Geiger)\n",
    "# This is just for demonstration purposes\n",
    "climate_class = temperature.gt(20).And(precipitation.gt(1000)).multiply(1).rename('Climate_Class')\n",
    "\n",
    "# Visualize\n",
    "vis_params = {\n",
    "    'min': 0,\n",
    "    'max': 1,\n",
    "    'palette': ['blue', 'green']\n",
    "}\n",
    "\n",
    "Map = geemap.Map()\n",
    "Map.addLayer(climate_class, vis_params, 'Climate Classification')\n",
    "Map\n"
   ]
  },
  {
   "cell_type": "code",
   "execution_count": 10,
   "metadata": {},
   "outputs": [
    {
     "data": {
      "text/html": [
       "\n",
       "            <style>\n",
       "                .geemap-dark {\n",
       "                    --jp-widgets-color: white;\n",
       "                    --jp-widgets-label-color: white;\n",
       "                    --jp-ui-font-color1: white;\n",
       "                    --jp-layout-color2: #454545;\n",
       "                    background-color: #383838;\n",
       "                }\n",
       "\n",
       "                .geemap-dark .jupyter-button {\n",
       "                    --jp-layout-color3: #383838;\n",
       "                }\n",
       "\n",
       "                .geemap-colab {\n",
       "                    background-color: var(--colab-primary-surface-color, white);\n",
       "                }\n",
       "\n",
       "                .geemap-colab .jupyter-button {\n",
       "                    --jp-layout-color3: var(--colab-primary-surface-color, white);\n",
       "                }\n",
       "            </style>\n",
       "            "
      ],
      "text/plain": [
       "<IPython.core.display.HTML object>"
      ]
     },
     "metadata": {},
     "output_type": "display_data"
    },
    {
     "name": "stdout",
     "output_type": "stream",
     "text": [
      "Export task started. Check your Google Drive for the file.\n"
     ]
    }
   ],
   "source": [
    "import geemap\n",
    "import ee\n",
    "\n",
    "# Initialize Earth Engine\n",
    "ee.Initialize()\n",
    "\n",
    "# Example: Simple climate classification raster\n",
    "# (Replace with your actual climate classification raster)\n",
    "temperature = ee.Image('WORLDCLIM/V1/BIO').select('bio01')  # Annual Mean Temperature\n",
    "precipitation = ee.Image('WORLDCLIM/V1/BIO').select('bio12')  # Annual Precipitation\n",
    "\n",
    "# Simple classification (for demonstration)\n",
    "climate_class = temperature.gt(20).And(precipitation.gt(1000)).multiply(1).rename('Climate_Class')\n",
    "\n",
    "# Define the export region (bounding box for Sub-Saharan Africa)\n",
    "bbox = ee.Geometry.Rectangle([-20, -35, 55, 20])\n",
    "\n",
    "# Export the raster to Google Drive\n",
    "task = ee.batch.Export.image.toDrive(\n",
    "    image=climate_class,\n",
    "    description='Climate_Classification',\n",
    "    folder='EarthEngineExports',\n",
    "    fileNamePrefix='climate_classification',\n",
    "    region=bbox.getInfo()['coordinates'],\n",
    "    scale=100000,  # Adjust scale as needed\n",
    "    crs='EPSG:4326',\n",
    "    maxPixels=1e13\n",
    ")\n",
    "\n",
    "task.start()\n",
    "\n",
    "print(\"Export task started. Check your Google Drive for the file.\")\n"
   ]
  },
  {
   "cell_type": "code",
   "execution_count": 11,
   "metadata": {},
   "outputs": [
    {
     "data": {
      "text/html": [
       "\n",
       "            <style>\n",
       "                .geemap-dark {\n",
       "                    --jp-widgets-color: white;\n",
       "                    --jp-widgets-label-color: white;\n",
       "                    --jp-ui-font-color1: white;\n",
       "                    --jp-layout-color2: #454545;\n",
       "                    background-color: #383838;\n",
       "                }\n",
       "\n",
       "                .geemap-dark .jupyter-button {\n",
       "                    --jp-layout-color3: #383838;\n",
       "                }\n",
       "\n",
       "                .geemap-colab {\n",
       "                    background-color: var(--colab-primary-surface-color, white);\n",
       "                }\n",
       "\n",
       "                .geemap-colab .jupyter-button {\n",
       "                    --jp-layout-color3: var(--colab-primary-surface-color, white);\n",
       "                }\n",
       "            </style>\n",
       "            "
      ],
      "text/plain": [
       "<IPython.core.display.HTML object>"
      ]
     },
     "metadata": {},
     "output_type": "display_data"
    },
    {
     "name": "stdout",
     "output_type": "stream",
     "text": [
      "   ID  GRIDCODE                                           geometry\n",
      "0   1        61  MULTIPOLYGON (((-37.00000 82.50000, -38.00000 ...\n",
      "1   2        61  MULTIPOLYGON (((-77.00000 81.50000, -79.00000 ...\n",
      "2   3        43  MULTIPOLYGON (((-62.50000 81.00000, -62.50000 ...\n",
      "3   4        62  MULTIPOLYGON (((91.50000 81.00000, 90.00000 81...\n",
      "4   5        43  MULTIPOLYGON (((-89.50000 80.50000, -89.50000 ...\n"
     ]
    }
   ],
   "source": [
    "import geemap\n",
    "import geopandas as gpd\n",
    "import matplotlib.pyplot as plt\n",
    "\n",
    "# Define the path to your GeoJSON file\n",
    "geojson_file_path = 'Koppen.geojson'\n",
    "\n",
    "# Load the GeoJSON file using geopandas to check its contents\n",
    "gdf = gpd.read_file(geojson_file_path)\n",
    "\n",
    "# Display the first few rows to understand the structure\n",
    "print(gdf.head())\n"
   ]
  },
  {
   "cell_type": "code",
   "execution_count": 15,
   "metadata": {},
   "outputs": [
    {
     "data": {
      "text/html": [
       "\n",
       "            <style>\n",
       "                .geemap-dark {\n",
       "                    --jp-widgets-color: white;\n",
       "                    --jp-widgets-label-color: white;\n",
       "                    --jp-ui-font-color1: white;\n",
       "                    --jp-layout-color2: #454545;\n",
       "                    background-color: #383838;\n",
       "                }\n",
       "\n",
       "                .geemap-dark .jupyter-button {\n",
       "                    --jp-layout-color3: #383838;\n",
       "                }\n",
       "\n",
       "                .geemap-colab {\n",
       "                    background-color: var(--colab-primary-surface-color, white);\n",
       "                }\n",
       "\n",
       "                .geemap-colab .jupyter-button {\n",
       "                    --jp-layout-color3: var(--colab-primary-surface-color, white);\n",
       "                }\n",
       "            </style>\n",
       "            "
      ],
      "text/plain": [
       "<IPython.core.display.HTML object>"
      ]
     },
     "metadata": {},
     "output_type": "display_data"
    },
    {
     "name": "stdout",
     "output_type": "stream",
     "text": [
      "Index(['ID', 'GRIDCODE', 'geometry'], dtype='object')\n"
     ]
    }
   ],
   "source": [
    "# Check the columns of the GeoDataFrame\n",
    "print(gdf.columns)\n"
   ]
  },
  {
   "cell_type": "code",
   "execution_count": 16,
   "metadata": {},
   "outputs": [
    {
     "data": {
      "text/html": [
       "\n",
       "            <style>\n",
       "                .geemap-dark {\n",
       "                    --jp-widgets-color: white;\n",
       "                    --jp-widgets-label-color: white;\n",
       "                    --jp-ui-font-color1: white;\n",
       "                    --jp-layout-color2: #454545;\n",
       "                    background-color: #383838;\n",
       "                }\n",
       "\n",
       "                .geemap-dark .jupyter-button {\n",
       "                    --jp-layout-color3: #383838;\n",
       "                }\n",
       "\n",
       "                .geemap-colab {\n",
       "                    background-color: var(--colab-primary-surface-color, white);\n",
       "                }\n",
       "\n",
       "                .geemap-colab .jupyter-button {\n",
       "                    --jp-layout-color3: var(--colab-primary-surface-color, white);\n",
       "                }\n",
       "            </style>\n",
       "            "
      ],
      "text/plain": [
       "<IPython.core.display.HTML object>"
      ]
     },
     "metadata": {},
     "output_type": "display_data"
    },
    {
     "data": {
      "image/png": "[encoded data removed]",
      "text/plain": [
       "<Figure size 1000x1000 with 1 Axes>"
      ]
     },
     "metadata": {},
     "output_type": "display_data"
    }
   ],
   "source": [
    "import geopandas as gpd\n",
    "import matplotlib.pyplot as plt\n",
    "\n",
    "# Define the path to your GeoJSON file\n",
    "geojson_file_path = 'Koppen.geojson'\n",
    "\n",
    "# Load the GeoJSON file into a GeoDataFrame\n",
    "gdf = gpd.read_file(geojson_file_path)\n",
    "\n",
    "# Define the color mapping according to your metadata\n",
    "koppen_color_map = {\n",
    "    11: '#1a9850', 12: '#66bd63', 13: '#a6d96a', 14: '#d9ef8b',\n",
    "    21: '#fee08b', 22: '#fdae61', 26: '#f46d43', 27: '#d73027',\n",
    "    31: '#762a83', 32: '#9970ab', 33: '#c2a5cf', 34: '#e7d4e8',\n",
    "    35: '#f7f7f7', 36: '#d9f0d3', 37: '#a6dba0', 38: '#5aae61',\n",
    "    39: '#00441b', 41: '#006d2c', 42: '#238b45', 43: '#41ab5d',\n",
    "    44: '#74c476', 45: '#a1d99b', 46: '#c7e9c0', 47: '#e5f5e0',\n",
    "    48: '#fd8d3c', 49: '#fdae6b', 50: '#fdd0a2', 51: '#fee6ce',\n",
    "    52: '#e31a1c', 61: '#fb6a4a', 62: '#fc9272'\n",
    "}\n",
    "\n",
    "# Ensure that the GRIDCODE column is an integer\n",
    "gdf['GRIDCODE'] = gdf['GRIDCODE'].astype(int)\n",
    "\n",
    "# Map the GRIDCODE to the corresponding colors\n",
    "gdf['color'] = gdf['GRIDCODE'].map(koppen_color_map)\n",
    "\n",
    "# Visualize a quick plot using geopandas to verify the colors\n",
    "gdf.plot(color=gdf['color'], figsize=(10, 10), legend=True)\n",
    "plt.title('Köppen-Geiger Climate Classification')\n",
    "plt.show()\n"
   ]
  },
  {
   "cell_type": "code",
   "execution_count": 17,
   "metadata": {},
   "outputs": [
    {
     "data": {
      "text/html": [
       "\n",
       "            <style>\n",
       "                .geemap-dark {\n",
       "                    --jp-widgets-color: white;\n",
       "                    --jp-widgets-label-color: white;\n",
       "                    --jp-ui-font-color1: white;\n",
       "                    --jp-layout-color2: #454545;\n",
       "                    background-color: #383838;\n",
       "                }\n",
       "\n",
       "                .geemap-dark .jupyter-button {\n",
       "                    --jp-layout-color3: #383838;\n",
       "                }\n",
       "\n",
       "                .geemap-colab {\n",
       "                    background-color: var(--colab-primary-surface-color, white);\n",
       "                }\n",
       "\n",
       "                .geemap-colab .jupyter-button {\n",
       "                    --jp-layout-color3: var(--colab-primary-surface-color, white);\n",
       "                }\n",
       "            </style>\n",
       "            "
      ],
      "text/plain": [
       "<IPython.core.display.HTML object>"
      ]
     },
     "metadata": {},
     "output_type": "display_data"
    }
   ],
   "source": [
    "# Define the output path for the GeoJSON or Shapefile\n",
    "output_geojson_path = 'Koppen_with_colors.geojson'\n",
    "output_shapefile_path = 'Koppen_with_colors.shp'\n",
    "\n",
    "# Save as GeoJSON\n",
    "gdf.to_file(output_geojson_path, driver='GeoJSON')\n",
    "\n",
    "# Alternatively, save as Shapefile\n",
    "gdf.to_file(output_shapefile_path, driver='ESRI Shapefile')\n"
   ]
  }
 ],
 "metadata": {
  "kernelspec": {
   "display_name": "base",
   "language": "python",
   "name": "python3"
  },
  "language_info": {
   "codemirror_mode": {
    "name": "ipython",
    "version": 3
   },
   "file_extension": ".py",
   "mimetype": "text/x-python",
   "name": "python",
   "nbconvert_exporter": "python",
   "pygments_lexer": "ipython3",
   "version": "undefined.undefined.undefined"
  }
 },
 "nbformat": 4,
 "nbformat_minor": 2
}
