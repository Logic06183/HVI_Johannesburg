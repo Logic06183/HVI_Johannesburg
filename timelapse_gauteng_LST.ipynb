{
 "cells": [
  {
   "cell_type": "code",
   "execution_count": 1,
   "metadata": {},
   "outputs": [
    {
     "data": {
      "application/vnd.jupyter.widget-view+json": {
       "model_id": "65414fc06aa64aa083f40e856925bd01",
       "version_major": 2,
       "version_minor": 0
      },
      "text/plain": [
       "HBox(children=(Text(value='Gauteng Landsat Timelapse', description='Title:', style=DescriptionStyle(descriptio…"
      ]
     },
     "metadata": {},
     "output_type": "display_data"
    },
    {
     "data": {
      "application/vnd.jupyter.widget-view+json": {
       "model_id": "f2162a61ce2c47f58565d2a558f19488",
       "version_major": 2,
       "version_minor": 0
      },
      "text/plain": [
       "HBox(children=(IntSlider(value=1984, description='Start Year:', max=2021, min=1984, style=SliderStyle(descript…"
      ]
     },
     "metadata": {},
     "output_type": "display_data"
    },
    {
     "data": {
      "application/vnd.jupyter.widget-view+json": {
       "model_id": "ad463796206d4dd8b2127c8bd14234e5",
       "version_major": 2,
       "version_minor": 0
      },
      "text/plain": [
       "HBox(children=(IntSlider(value=10, description='Frames per second:', max=30, min=1, style=SliderStyle(descript…"
      ]
     },
     "metadata": {},
     "output_type": "display_data"
    },
    {
     "data": {
      "application/vnd.jupyter.widget-view+json": {
       "model_id": "e135dcf4558948158a54f6084fc13f24",
       "version_major": 2,
       "version_minor": 0
      },
      "text/plain": [
       "HBox(children=(IntSlider(value=30, description='Font size:', max=50, min=10, style=SliderStyle(description_wid…"
      ]
     },
     "metadata": {},
     "output_type": "display_data"
    },
    {
     "data": {
      "application/vnd.jupyter.widget-view+json": {
       "model_id": "2ee2dcf3ec984a55987a8a9c272059c3",
       "version_major": 2,
       "version_minor": 0
      },
      "text/plain": [
       "Button(button_style='primary', description='Submit', style=ButtonStyle(), tooltip='Click to submit the request…"
      ]
     },
     "metadata": {},
     "output_type": "display_data"
    },
    {
     "data": {
      "application/vnd.jupyter.widget-view+json": {
       "model_id": "307ebe1bd5324bceb32fc338b21a6e8e",
       "version_major": 2,
       "version_minor": 0
      },
      "text/plain": [
       "Output()"
      ]
     },
     "metadata": {},
     "output_type": "display_data"
    }
   ],
   "source": [
    "import os\n",
    "import ee\n",
    "import geemap\n",
    "import ipywidgets as widgets\n",
    "import json\n",
    "\n",
    "# Authenticate and initialize Earth Engine\n",
    "ee.Authenticate()\n",
    "ee.Initialize()\n",
    "\n",
    "# Create a map centered on Gauteng\n",
    "Map = geemap.Map()\n",
    "Map.setCenter(28.2184, -25.7313, 8)  # Center on Gauteng\n",
    "Map\n",
    "\n",
    "# Output directory for downloads\n",
    "out_dir = os.path.join(os.path.expanduser(\"~\"), \"Downloads\")\n",
    "if not os.path.exists(out_dir):\n",
    "    os.makedirs(out_dir)\n",
    "\n",
    "# Load the GeoJSON file and convert it to Earth Engine ROI\n",
    "geojson_file = r\"C:\\Users\\CraigParker\\OneDrive - Wits PHR\\Desktop\\HVI_Johannesburg\\JHB_GCRO_Selected_variables.geojson\"\n",
    "\n",
    "# Read the GeoJSON file\n",
    "with open(geojson_file) as f:\n",
    "    geojson_data = json.load(f)\n",
    "\n",
    "# Extract all polygons from the GeoJSON and convert them to an Earth Engine MultiPolygon geometry\n",
    "coordinates = []\n",
    "for feature in geojson_data['features']:\n",
    "    coords = feature['geometry']['coordinates']\n",
    "    if feature['geometry']['type'] == 'MultiPolygon':\n",
    "        for polygon in coords:\n",
    "            coordinates.append(polygon)\n",
    "\n",
    "# Convert the list of polygons to Earth Engine MultiPolygon\n",
    "roi = ee.Geometry.MultiPolygon(coordinates)\n",
    "\n",
    "# Create widgets for user input\n",
    "style = {\"description_width\": \"initial\"}\n",
    "title = widgets.Text(description=\"Title:\", value=\"Gauteng Landsat Timelapse\", style=style)\n",
    "\n",
    "bands = widgets.Dropdown(\n",
    "    description=\"Select RGB Combo:\",\n",
    "    options=[\n",
    "        \"Red/Green/Blue\",\n",
    "        \"NIR/Red/Green\",\n",
    "        \"SWIR2/SWIR1/NIR\",\n",
    "        \"NIR/SWIR1/Red\",\n",
    "        \"SWIR2/NIR/Red\",\n",
    "        \"SWIR2/SWIR1/Red\",\n",
    "        \"SWIR1/NIR/Blue\",\n",
    "        \"NIR/SWIR1/Blue\",\n",
    "        \"SWIR2/NIR/Green\",\n",
    "        \"SWIR1/NIR/Red\",\n",
    "    ],\n",
    "    value=\"NIR/Red/Green\",\n",
    "    style=style,\n",
    ")\n",
    "\n",
    "start_year = widgets.IntSlider(description=\"Start Year:\", value=1984, min=1984, max=2021, style=style)\n",
    "end_year = widgets.IntSlider(description=\"End Year:\", value=2021, min=1984, max=2021, style=style)\n",
    "\n",
    "speed = widgets.IntSlider(description=\"Frames per second:\", tooltip=\"Frames per second:\", value=10, min=1, max=30, style=style)\n",
    "download = widgets.Checkbox(value=False, description=\"Download the GIF\", style=style)\n",
    "\n",
    "font_size = widgets.IntSlider(description=\"Font size:\", value=30, min=10, max=50, style=style)\n",
    "font_color = widgets.ColorPicker(concise=False, description=\"Font color:\", value=\"white\", style=style)\n",
    "progress_bar_color = widgets.ColorPicker(concise=False, description=\"Progress bar color:\", value=\"blue\", style=style)\n",
    "\n",
    "# Layout widgets\n",
    "hbox1 = widgets.HBox([title, bands])\n",
    "hbox2 = widgets.HBox([start_year, end_year])\n",
    "hbox3 = widgets.HBox([speed, download])\n",
    "hbox4 = widgets.HBox([font_size, font_color, progress_bar_color])\n",
    "\n",
    "# Button and output\n",
    "submit = widgets.Button(description=\"Submit\", button_style=\"primary\", tooltip=\"Click to submit the request to create timelapse\", style=style)\n",
    "output = widgets.Output()\n",
    "\n",
    "# Define submit button click event\n",
    "def submit_clicked(b):\n",
    "    with output:\n",
    "        output.clear_output()\n",
    "        if start_year.value >= end_year.value:\n",
    "            print(\"The end year must be greater than the start year.\")\n",
    "            return\n",
    "        print(\"Computing...\")\n",
    "\n",
    "        # Use the loaded ROI (GeoJSON-based)\n",
    "        Map.add_landsat_ts_gif(\n",
    "            roi=roi,  # Region of interest from the GeoJSON file\n",
    "            label=title.value,\n",
    "            start_year=start_year.value,\n",
    "            end_year=end_year.value,\n",
    "            start_date=\"05-01\",\n",
    "            end_date=\"10-31\",\n",
    "            bands=bands.value.split(\"/\"),\n",
    "            font_color=font_color.value,\n",
    "            frames_per_second=speed.value,\n",
    "            font_size=font_size.value,\n",
    "            progress_bar_color=progress_bar_color.value,\n",
    "            download=download.value,\n",
    "        )\n",
    "        print(\"Timelapse added to the map.\")\n",
    "\n",
    "# Link the submit button to the function\n",
    "submit.on_click(submit_clicked)\n",
    "\n",
    "# Display widgets and output\n",
    "display(hbox1, hbox2, hbox3, hbox4, submit, output)\n"
   ]
  },
  {
   "cell_type": "code",
   "execution_count": 2,
   "metadata": {},
   "outputs": [
    {
     "data": {
      "text/html": [
       "\n",
       "            <style>\n",
       "                .geemap-dark {\n",
       "                    --jp-widgets-color: white;\n",
       "                    --jp-widgets-label-color: white;\n",
       "                    --jp-ui-font-color1: white;\n",
       "                    --jp-layout-color2: #454545;\n",
       "                    background-color: #383838;\n",
       "                }\n",
       "\n",
       "                .geemap-dark .jupyter-button {\n",
       "                    --jp-layout-color3: #383838;\n",
       "                }\n",
       "\n",
       "                .geemap-colab {\n",
       "                    background-color: var(--colab-primary-surface-color, white);\n",
       "                }\n",
       "\n",
       "                .geemap-colab .jupyter-button {\n",
       "                    --jp-layout-color3: var(--colab-primary-surface-color, white);\n",
       "                }\n",
       "            </style>\n",
       "            "
      ],
      "text/plain": [
       "<IPython.core.display.HTML object>"
      ]
     },
     "metadata": {},
     "output_type": "display_data"
    },
    {
     "data": {
      "application/vnd.jupyter.widget-view+json": {
       "model_id": "5e44adebc60a42fc9d416fe21ab7308a",
       "version_major": 2,
       "version_minor": 0
      },
      "text/plain": [
       "HBox(children=(Text(value='Gauteng Landsat Timelapse', description='Title:', style=DescriptionStyle(descriptio…"
      ]
     },
     "metadata": {},
     "output_type": "display_data"
    },
    {
     "data": {
      "application/vnd.jupyter.widget-view+json": {
       "model_id": "fca1e63d85be4f7da9de8cd3b54b43bb",
       "version_major": 2,
       "version_minor": 0
      },
      "text/plain": [
       "HBox(children=(IntSlider(value=1984, description='Start Year:', max=2021, min=1984, style=SliderStyle(descript…"
      ]
     },
     "metadata": {},
     "output_type": "display_data"
    },
    {
     "data": {
      "application/vnd.jupyter.widget-view+json": {
       "model_id": "d403c2682dc44a9688291962fb22ec46",
       "version_major": 2,
       "version_minor": 0
      },
      "text/plain": [
       "HBox(children=(IntSlider(value=10, description='Frames per second:', max=30, min=1, style=SliderStyle(descript…"
      ]
     },
     "metadata": {},
     "output_type": "display_data"
    },
    {
     "data": {
      "application/vnd.jupyter.widget-view+json": {
       "model_id": "90b520ca6f374f47b06b0ad9b68cac83",
       "version_major": 2,
       "version_minor": 0
      },
      "text/plain": [
       "HBox(children=(IntSlider(value=30, description='Font size:', max=50, min=10, style=SliderStyle(description_wid…"
      ]
     },
     "metadata": {},
     "output_type": "display_data"
    },
    {
     "data": {
      "application/vnd.jupyter.widget-view+json": {
       "model_id": "ea70068fce92414f994cb33e7811eac4",
       "version_major": 2,
       "version_minor": 0
      },
      "text/plain": [
       "Button(button_style='primary', description='Submit', style=ButtonStyle(), tooltip='Click to submit the request…"
      ]
     },
     "metadata": {},
     "output_type": "display_data"
    },
    {
     "data": {
      "application/vnd.jupyter.widget-view+json": {
       "model_id": "d76214a5e724465a8cde25da19a86d9d",
       "version_major": 2,
       "version_minor": 0
      },
      "text/plain": [
       "Output()"
      ]
     },
     "metadata": {},
     "output_type": "display_data"
    }
   ],
   "source": [
    "import os\n",
    "import ee\n",
    "import geemap\n",
    "import ipywidgets as widgets\n",
    "import json\n",
    "\n",
    "# Authenticate and initialize Earth Engine\n",
    "ee.Authenticate()\n",
    "ee.Initialize()\n",
    "\n",
    "# Create a map centered on Gauteng\n",
    "Map = geemap.Map()\n",
    "Map.setCenter(28.2184, -25.7313, 8)  # Center on Gauteng\n",
    "\n",
    "# Output directory for downloads\n",
    "out_dir = os.path.join(os.path.expanduser(\"~\"), \"Downloads\")\n",
    "if not os.path.exists(out_dir):\n",
    "    os.makedirs(out_dir)\n",
    "\n",
    "# Load the GeoJSON file and convert it to Earth Engine ROI\n",
    "geojson_file = r\"C:\\Users\\CraigParker\\OneDrive - Wits PHR\\Desktop\\HVI_Johannesburg\\JHB_GCRO_Selected_variables.geojson\"\n",
    "\n",
    "# Read the GeoJSON file\n",
    "with open(geojson_file) as f:\n",
    "    geojson_data = json.load(f)\n",
    "\n",
    "# Extract all polygons from the GeoJSON and convert them to an Earth Engine MultiPolygon geometry\n",
    "coordinates = []\n",
    "for feature in geojson_data['features']:\n",
    "    coords = feature['geometry']['coordinates']\n",
    "    if feature['geometry']['type'] == 'MultiPolygon':\n",
    "        for polygon in coords:\n",
    "            coordinates.append(polygon)\n",
    "\n",
    "# Convert the list of polygons to Earth Engine MultiPolygon\n",
    "roi = ee.Geometry.MultiPolygon(coordinates)\n",
    "\n",
    "# Add the ROI to the map as a layer for visualization\n",
    "Map.addLayer(roi, {\"color\": \"red\"}, \"ROI\")\n",
    "\n",
    "# Display the map to visually confirm the ROI\n",
    "Map\n",
    "\n",
    "# Create widgets for user input\n",
    "style = {\"description_width\": \"initial\"}\n",
    "title = widgets.Text(description=\"Title:\", value=\"Gauteng Landsat Timelapse\", style=style)\n",
    "\n",
    "bands = widgets.Dropdown(\n",
    "    description=\"Select RGB Combo:\",\n",
    "    options=[\n",
    "        \"Red/Green/Blue\",\n",
    "        \"NIR/Red/Green\",\n",
    "        \"SWIR2/SWIR1/NIR\",\n",
    "        \"NIR/SWIR1/Red\",\n",
    "        \"SWIR2/NIR/Red\",\n",
    "        \"SWIR2/SWIR1/Red\",\n",
    "        \"SWIR1/NIR/Blue\",\n",
    "        \"NIR/SWIR1/Blue\",\n",
    "        \"SWIR2/NIR/Green\",\n",
    "        \"SWIR1/NIR/Red\",\n",
    "    ],\n",
    "    value=\"NIR/Red/Green\",\n",
    "    style=style,\n",
    ")\n",
    "\n",
    "start_year = widgets.IntSlider(description=\"Start Year:\", value=1984, min=1984, max=2021, style=style)\n",
    "end_year = widgets.IntSlider(description=\"End Year:\", value=2021, min=1984, max=2021, style=style)\n",
    "\n",
    "speed = widgets.IntSlider(description=\"Frames per second:\", tooltip=\"Frames per second:\", value=10, min=1, max=30, style=style)\n",
    "download = widgets.Checkbox(value=False, description=\"Download the GIF\", style=style)\n",
    "\n",
    "font_size = widgets.IntSlider(description=\"Font size:\", value=30, min=10, max=50, style=style)\n",
    "font_color = widgets.ColorPicker(concise=False, description=\"Font color:\", value=\"white\", style=style)\n",
    "progress_bar_color = widgets.ColorPicker(concise=False, description=\"Progress bar color:\", value=\"blue\", style=style)\n",
    "\n",
    "# Layout widgets\n",
    "hbox1 = widgets.HBox([title, bands])\n",
    "hbox2 = widgets.HBox([start_year, end_year])\n",
    "hbox3 = widgets.HBox([speed, download])\n",
    "hbox4 = widgets.HBox([font_size, font_color, progress_bar_color])\n",
    "\n",
    "# Button and output\n",
    "submit = widgets.Button(description=\"Submit\", button_style=\"primary\", tooltip=\"Click to submit the request to create timelapse\", style=style)\n",
    "output = widgets.Output()\n",
    "\n",
    "# Define submit button click event\n",
    "def submit_clicked(b):\n",
    "    with output:\n",
    "        output.clear_output()\n",
    "        if start_year.value >= end_year.value:\n",
    "            print(\"The end year must be greater than the start year.\")\n",
    "            return\n",
    "        print(\"Computing...\")\n",
    "\n",
    "        # Use the loaded ROI (GeoJSON-based)\n",
    "        Map.add_landsat_ts_gif(\n",
    "            roi=roi,  # Region of interest from the GeoJSON file\n",
    "            label=title.value,\n",
    "            start_year=start_year.value,\n",
    "            end_year=end_year.value,\n",
    "            start_date=\"05-01\",\n",
    "            end_date=\"10-31\",\n",
    "            bands=bands.value.split(\"/\"),\n",
    "            font_color=font_color.value,\n",
    "            frames_per_second=speed.value,\n",
    "            font_size=font_size.value,\n",
    "            progress_bar_color=progress_bar_color.value,\n",
    "            download=download.value,\n",
    "        )\n",
    "        print(\"Timelapse added to the map.\")\n",
    "\n",
    "# Link the submit button to the function\n",
    "submit.on_click(submit_clicked)\n",
    "\n",
    "# Display widgets and output\n",
    "display(hbox1, hbox2, hbox3, hbox4, submit, output)\n"
   ]
  },
  {
   "cell_type": "code",
   "execution_count": 4,
   "metadata": {},
   "outputs": [
    {
     "data": {
      "text/html": [
       "\n",
       "            <style>\n",
       "                .geemap-dark {\n",
       "                    --jp-widgets-color: white;\n",
       "                    --jp-widgets-label-color: white;\n",
       "                    --jp-ui-font-color1: white;\n",
       "                    --jp-layout-color2: #454545;\n",
       "                    background-color: #383838;\n",
       "                }\n",
       "\n",
       "                .geemap-dark .jupyter-button {\n",
       "                    --jp-layout-color3: #383838;\n",
       "                }\n",
       "\n",
       "                .geemap-colab {\n",
       "                    background-color: var(--colab-primary-surface-color, white);\n",
       "                }\n",
       "\n",
       "                .geemap-colab .jupyter-button {\n",
       "                    --jp-layout-color3: var(--colab-primary-surface-color, white);\n",
       "                }\n",
       "            </style>\n",
       "            "
      ],
      "text/plain": [
       "<IPython.core.display.HTML object>"
      ]
     },
     "metadata": {},
     "output_type": "display_data"
    },
    {
     "data": {
      "application/vnd.jupyter.widget-view+json": {
       "model_id": "6ff9b22cab124c92bb03370f6b43ff88",
       "version_major": 2,
       "version_minor": 0
      },
      "text/plain": [
       "HBox(children=(Text(value='Gauteng Landsat Timelapse', description='Title:', style=DescriptionStyle(descriptio…"
      ]
     },
     "metadata": {},
     "output_type": "display_data"
    },
    {
     "data": {
      "application/vnd.jupyter.widget-view+json": {
       "model_id": "950a93ce3903467b80c1c32f8edad8f7",
       "version_major": 2,
       "version_minor": 0
      },
      "text/plain": [
       "HBox(children=(IntSlider(value=1984, description='Start Year:', max=2021, min=1984, style=SliderStyle(descript…"
      ]
     },
     "metadata": {},
     "output_type": "display_data"
    },
    {
     "data": {
      "application/vnd.jupyter.widget-view+json": {
       "model_id": "fe3bc28c3f6347908eccd4ffeccd2a6c",
       "version_major": 2,
       "version_minor": 0
      },
      "text/plain": [
       "HBox(children=(IntSlider(value=10, description='Frames per second:', max=30, min=1, style=SliderStyle(descript…"
      ]
     },
     "metadata": {},
     "output_type": "display_data"
    },
    {
     "data": {
      "application/vnd.jupyter.widget-view+json": {
       "model_id": "68b5b07b9e71411a9bb79c89260ff3a6",
       "version_major": 2,
       "version_minor": 0
      },
      "text/plain": [
       "HBox(children=(IntSlider(value=30, description='Font size:', max=50, min=10, style=SliderStyle(description_wid…"
      ]
     },
     "metadata": {},
     "output_type": "display_data"
    },
    {
     "data": {
      "application/vnd.jupyter.widget-view+json": {
       "model_id": "e77c93682040422188a1861f3529e52e",
       "version_major": 2,
       "version_minor": 0
      },
      "text/plain": [
       "Button(button_style='primary', description='Submit', style=ButtonStyle(), tooltip='Click to submit the request…"
      ]
     },
     "metadata": {},
     "output_type": "display_data"
    },
    {
     "data": {
      "application/vnd.jupyter.widget-view+json": {
       "model_id": "e923dab16d3e4b1f82a1cbfe91f10adc",
       "version_major": 2,
       "version_minor": 0
      },
      "text/plain": [
       "Output()"
      ]
     },
     "metadata": {},
     "output_type": "display_data"
    }
   ],
   "source": [
    "import os\n",
    "import ee\n",
    "import geemap\n",
    "import ipywidgets as widgets\n",
    "import json\n",
    "\n",
    "# Authenticate and initialize Earth Engine\n",
    "ee.Authenticate()\n",
    "ee.Initialize()\n",
    "\n",
    "# Create a map centered on Gauteng\n",
    "Map = geemap.Map()\n",
    "Map.setCenter(28.2184, -25.7313, 8)  # Center on Gauteng\n",
    "\n",
    "# Output directory for downloads\n",
    "out_dir = os.path.join(os.path.expanduser(\"~\"), \"Downloads\")\n",
    "if not os.path.exists(out_dir):\n",
    "    os.makedirs(out_dir)\n",
    "\n",
    "# Load the GeoJSON file and convert it to Earth Engine ROI\n",
    "geojson_file = r\"C:\\Users\\CraigParker\\OneDrive - Wits PHR\\Desktop\\HVI_Johannesburg\\JHB_GCRO_Selected_variables.geojson\"\n",
    "\n",
    "# Read the GeoJSON file\n",
    "with open(geojson_file) as f:\n",
    "    geojson_data = json.load(f)\n",
    "\n",
    "# Extract all polygons from the GeoJSON and convert them to an Earth Engine MultiPolygon geometry\n",
    "coordinates = []\n",
    "for feature in geojson_data['features']:\n",
    "    coords = feature['geometry']['coordinates']\n",
    "    if feature['geometry']['type'] == 'MultiPolygon':\n",
    "        for polygon in coords:\n",
    "            coordinates.append(polygon)\n",
    "\n",
    "# Convert the list of polygons to Earth Engine MultiPolygon\n",
    "roi = ee.Geometry.MultiPolygon(coordinates)\n",
    "\n",
    "# Add the ROI to the map as a layer for visualization\n",
    "Map.addLayer(roi, {\"color\": \"red\"}, \"ROI\")\n",
    "\n",
    "# Display the map to visually confirm the ROI\n",
    "Map\n",
    "\n",
    "# Create widgets for user input\n",
    "style = {\"description_width\": \"initial\"}\n",
    "title = widgets.Text(description=\"Title:\", value=\"Gauteng Landsat Timelapse\", style=style)\n",
    "\n",
    "bands = widgets.Dropdown(\n",
    "    description=\"Select RGB Combo:\",\n",
    "    options=[\n",
    "        \"Red/Green/Blue\",\n",
    "        \"NIR/Red/Green\",\n",
    "        \"SWIR2/SWIR1/NIR\",\n",
    "        \"NIR/SWIR1/Red\",\n",
    "        \"SWIR2/NIR/Red\",\n",
    "        \"SWIR2/SWIR1/Red\",\n",
    "        \"SWIR1/NIR/Blue\",\n",
    "        \"NIR/SWIR1/Blue\",\n",
    "        \"SWIR2/NIR/Green\",\n",
    "        \"SWIR1/NIR/Red\",\n",
    "    ],\n",
    "    value=\"NIR/Red/Green\",\n",
    "    style=style,\n",
    ")\n",
    "\n",
    "start_year = widgets.IntSlider(description=\"Start Year:\", value=1984, min=1984, max=2021, style=style)\n",
    "end_year = widgets.IntSlider(description=\"End Year:\", value=2021, min=1984, max=2021, style=style)\n",
    "\n",
    "speed = widgets.IntSlider(description=\"Frames per second:\", tooltip=\"Frames per second:\", value=10, min=1, max=30, style=style)\n",
    "download = widgets.Checkbox(value=False, description=\"Download the GIF\", style=style)\n",
    "\n",
    "font_size = widgets.IntSlider(description=\"Font size:\", value=30, min=10, max=50, style=style)\n",
    "font_color = widgets.ColorPicker(concise=False, description=\"Font color:\", value=\"white\", style=style)\n",
    "progress_bar_color = widgets.ColorPicker(concise=False, description=\"Progress bar color:\", value=\"blue\", style=style)\n",
    "\n",
    "# Layout widgets\n",
    "hbox1 = widgets.HBox([title, bands])\n",
    "hbox2 = widgets.HBox([start_year, end_year])\n",
    "hbox3 = widgets.HBox([speed, download])\n",
    "hbox4 = widgets.HBox([font_size, font_color, progress_bar_color])\n",
    "\n",
    "# Button and output\n",
    "submit = widgets.Button(description=\"Submit\", button_style=\"primary\", tooltip=\"Click to submit the request to create timelapse\", style=style)\n",
    "output = widgets.Output()\n",
    "\n",
    "# Define submit button click event\n",
    "def submit_clicked(b):\n",
    "    with output:\n",
    "        output.clear_output()\n",
    "        if start_year.value >= end_year.value:\n",
    "            print(\"The end year must be greater than the start year.\")\n",
    "            return\n",
    "        print(\"Computing...\")\n",
    "\n",
    "        # Use the loaded ROI (GeoJSON-based)\n",
    "        Map.add_landsat_ts_gif(\n",
    "            roi=roi,  # Region of interest from the GeoJSON file\n",
    "            label=title.value,\n",
    "            start_year=start_year.value,\n",
    "            end_year=end_year.value,\n",
    "            start_date=\"05-01\",\n",
    "            end_date=\"10-31\",\n",
    "            bands=bands.value.split(\"/\"),\n",
    "            font_color=font_color.value,\n",
    "            frames_per_second=speed.value,\n",
    "            font_size=font_size.value,\n",
    "            progress_bar_color=progress_bar_color.value,\n",
    "            add_progress_bar=True,  # Add progress bar\n",
    "            add_text=True,  # Add year to each frame\n",
    "            download=download.value,\n",
    "        )\n",
    "        print(\"Timelapse added to the map.\")\n",
    "\n",
    "# Link the submit button to the function\n",
    "submit.on_click(submit_clicked)\n",
    "\n",
    "# Display widgets and output\n",
    "display(hbox1, hbox2, hbox3, hbox4, submit, output)\n"
   ]
  }
 ],
 "metadata": {
  "kernelspec": {
   "display_name": "base",
   "language": "python",
   "name": "python3"
  },
  "language_info": {
   "codemirror_mode": {
    "name": "ipython",
    "version": 3
   },
   "file_extension": ".py",
   "mimetype": "text/x-python",
   "name": "python",
   "nbconvert_exporter": "python",
   "pygments_lexer": "ipython3",
   "version": "3.11.7"
  }
 },
 "nbformat": 4,
 "nbformat_minor": 2
}
