{
 "cells": [
  {
   "cell_type": "code",
   "execution_count": null,
   "metadata": {},
   "outputs": [
    {
     "name": "stdout",
     "output_type": "stream",
     "text": [
      "\\begin{table}[htbp]\n",
      "\\centering\n",
      "\\caption{Top 10 Most Vulnerable Wards by Different Metrics}\n",
      "\\label{tab:vulnerability}\n",
      "\\resizebox{\\textwidth}{!}{%\n",
      "\\begin{tabular}{|c|cc|cc|cc|cc|cc|cc|cc|}\n",
      "\\hline\n",
      "\\multirow{2}{*}{Rank} & \\multicolumn{2}{c|}{Combined HVI} & \\multicolumn{2}{c|}{Heat Exposure} & \\multicolumn{2}{c|}{Low Vegetation} & \\multicolumn{2}{c|}{Public HC} & \\multicolumn{2}{c|}{No Insurance} & \\multicolumn{2}{c|}{Hunger Risk} & \\multicolumn{2}{c|}{Crowded} \\\\\n",
      "\\cline{2-15}\n",
      " & Ward & Value & Ward & Value & Ward & Value & Ward & Value & Ward & Value & Ward & Value & Ward & Value \\\\\n",
      "\\hline\n",
      "0 & Ward 87 & 1.00 & Ward 116 & 30.66 & Ward 63 & 0.045 & Ward 128 & 98.6 & Ward 128 & 97.1 & Ward 2 & 70.0 & Ward 113 & 51.5 \\\\\n",
      "1 & Ward 117 & 0.97 & Ward 108 & 30.56 & Ward 116 & 0.054 & Ward 35 & 96.5 & Ward 61 & 94.5 & Ward 6 & 69.0 & Ward 95 & 43.4 \\\\\n",
      "2 & Ward 88 & 0.94 & Ward 113 & 30.37 & Ward 108 & 0.057 & Ward 127 & 95.6 & Ward 116 & 94.2 & Ward 48 & 66.7 & Ward 114 & 40.8 \\\\\n",
      "3 & Ward 72 & 0.92 & Ward 135 & 30.37 & Ward 62 & 0.058 & Ward 21 & 94.8 & Ward 19 & 94.2 & Ward 121 & 64.4 & Ward 37 & 40.5 \\\\\n",
      "4 & Ward 90 & 0.92 & Ward 8 & 30.35 & Ward 133 & 0.065 & Ward 40 & 94.4 & Ward 111 & 92.9 & Ward 130 & 63.7 & Ward 107 & 40.0 \\\\\n",
      "5 & Ward 73 & 0.91 & Ward 107 & 30.14 & Ward 107 & 0.068 & Ward 24 & 93.5 & Ward 6 & 91.6 & Ward 15 & 63.2 & Ward 2 & 37.5 \\\\\n",
      "6 & Ward 103 & 0.90 & Ward 96 & 30.09 & Ward 77 & 0.075 & Ward 130 & 93.3 & Ward 75 & 91.6 & Ward 45 & 61.5 & Ward 75 & 37.2 \\\\\n",
      "7 & Ward 104 & 0.89 & Ward 32 & 30.06 & Ward 79 & 0.076 & Ward 50 & 93.3 & Ward 53 & 91.2 & Ward 47 & 61.3 & Ward 116 & 36.0 \\\\\n",
      "8 & Ward 99 & 0.88 & Ward 105 & 29.98 & Ward 76 & 0.076 & Ward 34 & 92.2 & Ward 59 & 91.0 & Ward 51 & 60.2 & Ward 35 & 35.7 \\\\\n",
      "9 & Ward 106 & 0.87 & Ward 76 & 29.88 & Ward 75 & 0.078 & Ward 11 & 92.1 & Ward 127 & 90.8 & Ward 41 & 60.1 & Ward 44 & 33.2 \\\\\n",
      "\\hline\n",
      "\\end{tabular}\n",
      "}\n",
      "\\end{table}\n"
     ]
    },
    {
     "ename": "",
     "evalue": "",
     "output_type": "error",
     "traceback": [
      "\u001b[1;31mThe Kernel crashed while executing code in the current cell or a previous cell. \n",
      "\u001b[1;31mPlease review the code in the cell(s) to identify a possible cause of the failure. \n",
      "\u001b[1;31mClick <a href='https://aka.ms/vscodeJupyterKernelCrash'>here</a> for more info. \n",
      "\u001b[1;31mView Jupyter <a href='command:jupyter.viewOutput'>log</a> for further details."
     ]
    }
   ],
   "source": [
    "import pandas as pd\n",
    "\n",
    "# Create the data\n",
    "data = {\n",
    "    'Combined HVI Ward': ['Ward 87', 'Ward 117', 'Ward 88', 'Ward 72', 'Ward 90', \n",
    "                         'Ward 73', 'Ward 103', 'Ward 104', 'Ward 99', 'Ward 106'],\n",
    "    'Combined HVI Value': [1.00, 0.97, 0.94, 0.92, 0.92, 0.91, 0.90, 0.89, 0.88, 0.87],\n",
    "    'Heat Exposure Ward': ['Ward 116', 'Ward 108', 'Ward 113', 'Ward 135', 'Ward 8', \n",
    "                          'Ward 107', 'Ward 96', 'Ward 32', 'Ward 105', 'Ward 76'],\n",
    "    'Heat Exposure Value': [30.66, 30.56, 30.37, 30.37, 30.35, 30.14, 30.09, 30.06, 29.98, 29.88],\n",
    "    'Low Vegetation Ward': ['Ward 63', 'Ward 116', 'Ward 108', 'Ward 62', 'Ward 133', \n",
    "                           'Ward 107', 'Ward 77', 'Ward 79', 'Ward 76', 'Ward 75'],\n",
    "    'Low Vegetation Value': [0.045, 0.054, 0.057, 0.058, 0.065, 0.068, 0.075, 0.076, 0.076, 0.078],\n",
    "    'Public HC Ward': ['Ward 128', 'Ward 35', 'Ward 127', 'Ward 21', 'Ward 40', \n",
    "                      'Ward 24', 'Ward 130', 'Ward 50', 'Ward 34', 'Ward 11'],\n",
    "    'Public HC Value': [98.6, 96.5, 95.6, 94.8, 94.4, 93.5, 93.3, 93.3, 92.2, 92.1],\n",
    "    'No Insurance Ward': ['Ward 128', 'Ward 61', 'Ward 116', 'Ward 19', 'Ward 111', \n",
    "                         'Ward 6', 'Ward 75', 'Ward 53', 'Ward 59', 'Ward 127'],\n",
    "    'No Insurance Value': [97.1, 94.5, 94.2, 94.2, 92.9, 91.6, 91.6, 91.2, 91.0, 90.8],\n",
    "    'Hunger Risk Ward': ['Ward 2', 'Ward 6', 'Ward 48', 'Ward 121', 'Ward 130', \n",
    "                        'Ward 15', 'Ward 45', 'Ward 47', 'Ward 51', 'Ward 41'],\n",
    "    'Hunger Risk Value': [70.0, 69.0, 66.7, 64.4, 63.7, 63.2, 61.5, 61.3, 60.2, 60.1],\n",
    "    'Crowded Ward': ['Ward 113', 'Ward 95', 'Ward 114', 'Ward 37', 'Ward 107', \n",
    "                     'Ward 2', 'Ward 75', 'Ward 116', 'Ward 35', 'Ward 44'],\n",
    "    'Crowded Value': [51.5, 43.4, 40.8, 40.5, 40.0, 37.5, 37.2, 36.0, 35.7, 33.2]\n",
    "}\n",
    "\n",
    "# Create DataFrame\n",
    "df = pd.DataFrame(data)\n",
    "\n",
    "# Generate LaTeX table\n",
    "latex_table = \"\"\"\\\\begin{table}[htbp]\n",
    "\\\\centering\n",
    "\\\\caption{Top 10 Most Vulnerable Wards by Different Metrics}\n",
    "\\\\label{tab:vulnerability}\n",
    "\\\\resizebox{\\\\textwidth}{!}{%\n",
    "\\\\begin{tabular}{|c|cc|cc|cc|cc|cc|cc|cc|}\n",
    "\\\\hline\n",
    "\\\\multirow{2}{*}{Rank} & \\\\multicolumn{2}{c|}{Combined HVI} & \\\\multicolumn{2}{c|}{Heat Exposure} & \\\\multicolumn{2}{c|}{Low Vegetation} & \\\\multicolumn{2}{c|}{Public HC} & \\\\multicolumn{2}{c|}{No Insurance} & \\\\multicolumn{2}{c|}{Hunger Risk} & \\\\multicolumn{2}{c|}{Crowded} \\\\\\\\\n",
    "\\\\cline{2-15}\n",
    " & Ward & Value & Ward & Value & Ward & Value & Ward & Value & Ward & Value & Ward & Value & Ward & Value \\\\\\\\\n",
    "\\\\hline\n",
    "\"\"\"\n",
    "\n",
    "# Add data rows\n",
    "for i in range(10):\n",
    "    row = f\"{i} & {df.iloc[i]['Combined HVI Ward']} & {df.iloc[i]['Combined HVI Value']:.2f} & \"\n",
    "    row += f\"{df.iloc[i]['Heat Exposure Ward']} & {df.iloc[i]['Heat Exposure Value']:.2f} & \"\n",
    "    row += f\"{df.iloc[i]['Low Vegetation Ward']} & {df.iloc[i]['Low Vegetation Value']:.3f} & \"\n",
    "    row += f\"{df.iloc[i]['Public HC Ward']} & {df.iloc[i]['Public HC Value']:.1f} & \"\n",
    "    row += f\"{df.iloc[i]['No Insurance Ward']} & {df.iloc[i]['No Insurance Value']:.1f} & \"\n",
    "    row += f\"{df.iloc[i]['Hunger Risk Ward']} & {df.iloc[i]['Hunger Risk Value']:.1f} & \"\n",
    "    row += f\"{df.iloc[i]['Crowded Ward']} & {df.iloc[i]['Crowded Value']:.1f} \\\\\\\\\"\n",
    "    latex_table += row + \"\\n\"\n",
    "\n",
    "# Close the table\n",
    "latex_table += \"\"\"\\\\hline\n",
    "\\\\end{tabular}\n",
    "}\n",
    "\\\\end{table}\"\"\"\n",
    "\n",
    "print(latex_table)"
   ]
  },
  {
   "cell_type": "code",
   "execution_count": null,
   "metadata": {},
   "outputs": [],
   "source": []
  }
 ],
 "metadata": {
  "kernelspec": {
   "display_name": "base",
   "language": "python",
   "name": "python3"
  },
  "language_info": {
   "codemirror_mode": {
    "name": "ipython",
    "version": 3
   },
   "file_extension": ".py",
   "mimetype": "text/x-python",
   "name": "python",
   "nbconvert_exporter": "python",
   "pygments_lexer": "ipython3",
   "version": "3.11.7"
  }
 },
 "nbformat": 4,
 "nbformat_minor": 2
}
